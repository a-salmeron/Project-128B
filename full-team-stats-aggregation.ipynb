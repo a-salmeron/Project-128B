{
 "cells": [
  {
   "cell_type": "code",
   "execution_count": null,
   "id": "f64f97c5",
   "metadata": {},
   "outputs": [],
   "source": [
    "import numpy as np\n",
    "import pandas as pd\n",
    "import matplotlib.pyplot as plt\n",
    "import seaborn as sns\n",
    "import sqlite3\n",
    "# import sklearn\n",
    "\n",
    "# from sklearn.model_selection import train_test_split\n",
    "# from sklearn.preprocessing import StandardScaler\n",
    "# from sklearn.linear_model import LinearRegression\n",
    "# from sklearn.tree import DecisionTreeClassifier\n",
    "# from sklearn.ensemble import RandomForestClassifier\n",
    "# from sklearn.metrics import accuracy_score, confusion_matrix, classification_report\n",
    "\n",
    "# import tensorflow as tf\n",
    "# from tensorflow import keras\n",
    "\n",
    "# import statsmodels.api as sm\n",
    "\n",
    "import warnings\n",
    "warnings.filterwarnings(\"ignore\")\n",
    "\n",
    "pd.set_option('display.max_columns', None)"
   ]
  },
  {
   "cell_type": "code",
   "execution_count": null,
   "id": "6a7ad255",
   "metadata": {},
   "outputs": [],
   "source": [
    "conn = sqlite3.connect('NBA-Boxscore-Database.sqlite')"
   ]
  },
  {
   "cell_type": "code",
   "execution_count": null,
   "id": "f73f4bfc",
   "metadata": {},
   "outputs": [],
   "source": [
    "query = 'SELECT * from game_info'\n",
    "game_info = pd.read_sql(query, con=conn)\n",
    "game_info"
   ]
  },
  {
   "cell_type": "code",
   "execution_count": null,
   "id": "b8139b34",
   "metadata": {},
   "outputs": [],
   "source": [
    "query = 'SELECT * from team_stats'\n",
    "team_stats = pd.read_sql(query, con=conn)\n",
    "team_stats"
   ]
  },
  {
   "cell_type": "code",
   "execution_count": null,
   "id": "72e847d3",
   "metadata": {},
   "outputs": [],
   "source": [
    "game_ids = list(team_stats['game_id'].unique())"
   ]
  },
  {
   "cell_type": "code",
   "execution_count": null,
   "id": "bf63acdb",
   "metadata": {},
   "outputs": [],
   "source": [
    "stats_df = team_stats.drop(['MP', 'PM', 'USGp', 'ORtg', 'DRtg', 'BPM'], axis=1)\n",
    "stats_df"
   ]
  },
  {
   "cell_type": "code",
   "execution_count": null,
   "id": "68b75d6b",
   "metadata": {},
   "outputs": [],
   "source": [
    "def create_gid_query(game_id, date, lim, team='away'):\n",
    "    away_gid_query = f'''\n",
    "    SELECT gi.game_id\n",
    "    FROM game_info gi\n",
    "    WHERE (gi.away_team = (SELECT away_team FROM game_info WHERE game_id = '{game_id}')\n",
    "            AND gi.date < '{date}')\n",
    "       OR (gi.home_team = (SELECT away_team FROM game_info WHERE game_id = '{game_id}')\n",
    "            AND gi.date < '{date}')\n",
    "    ORDER BY gi.date DESC\n",
    "    LIMIT {lim};\n",
    "    '''\n",
    "    \n",
    "    home_gid_query = f'''\n",
    "    SELECT gi.game_id\n",
    "    FROM game_info gi\n",
    "    WHERE (gi.away_team = (SELECT home_team FROM game_info WHERE game_id = '{game_id}')\n",
    "            AND gi.date < '{date}')\n",
    "       OR (gi.home_team = (SELECT home_team FROM game_info WHERE game_id = '{game_id}')\n",
    "            AND gi.date < '{date}')\n",
    "    ORDER BY gi.date DESC\n",
    "    LIMIT {lim};\n",
    "    '''\n",
    "    \n",
    "    if team == 'away':\n",
    "        return away_gid_query\n",
    "    elif team == 'home':\n",
    "        return home_gid_query"
   ]
  },
  {
   "cell_type": "code",
   "execution_count": null,
   "id": "5e426dba",
   "metadata": {},
   "outputs": [],
   "source": [
    "def create_stats_df(query, conn, stats, team='away'):\n",
    "    \n",
    "    gid_query_df = pd.read_sql(query, con=conn)\n",
    "    stat_df = gid_query_df.merge(stats)\n",
    "    \n",
    "    if team == 'away':\n",
    "        stat_df = stat_df[stat_df['team'] == away_team].reset_index(drop=True)\n",
    "        stat_agg = stat_df.loc[:,'FG':'TOVp'].mean()\n",
    "        stat_agg = stat_agg.to_frame().T\n",
    "        columns = [f'a_{col}' for col in stat_agg.columns]\n",
    "        col_name_dict = dict(zip(stat_agg.columns, columns))\n",
    "        stat_agg.rename(columns=col_name_dict, inplace=True)\n",
    "        \n",
    "    elif team =='home':\n",
    "        stat_df = stat_df[stat_df['team'] == home_team].reset_index(drop=True)\n",
    "        stat_agg = stat_df.loc[:,'FG':'TOVp'].mean()\n",
    "        stat_agg = stat_agg.to_frame().T\n",
    "        columns = [f'h_{col}' for col in stat_agg.columns]\n",
    "        col_name_dict = dict(zip(stat_agg.columns, columns))\n",
    "        stat_agg.rename(columns=col_name_dict, inplace=True)\n",
    "    \n",
    "    return stat_agg"
   ]
  },
  {
   "cell_type": "code",
   "execution_count": null,
   "id": "47c5a41e",
   "metadata": {},
   "outputs": [],
   "source": [
    "stats_df = team_stats.drop(['MP', 'PM', 'USGp', 'ORtg', 'DRtg', 'BPM'], axis=1)\n",
    "final_df_columns = list(game_info.columns) + [f'a_{column}' for column in stats_df.loc[:,'FG':'TOVp']] + [f'h_{column}' for column in stats_df.loc[:,'FG':'TOVp']]\n",
    "team_stats_full_10 = pd.DataFrame(columns=final_df_columns)\n",
    "\n",
    "for game_id in game_ids:\n",
    "\n",
    "    date = game_info[game_info['game_id'] == game_id]['date'].values[0]\n",
    "    away_team = game_info[game_info['game_id'] == game_id]['away_team'].values[0]\n",
    "    home_team = game_info[game_info['game_id'] == game_id]['home_team'].values[0]\n",
    "\n",
    "    away_gid_query = create_gid_query(game_id = game_id, date=date, lim=10, team='away')\n",
    "    away_stats = create_stats_df(query=away_gid_query, conn=conn, stats=stats_df, team='away')\n",
    "\n",
    "    home_gid_query = create_gid_query(game_id=game_id, date=date, lim=10, team='home')\n",
    "    home_stats = create_stats_df(query=home_gid_query, conn=conn, stats=stats_df, team='home')\n",
    "    \n",
    "    agg_stats = pd.concat([away_stats, home_stats], axis=1)\n",
    "    gid_info = game_info[game_info['game_id'] == game_id].reset_index(drop=True)\n",
    "    \n",
    "    stats = pd.concat([gid_info, agg_stats], axis=1)\n",
    "    team_stats_full_10 = team_stats_full_10.append(stats, ignore_index=True)\n",
    "\n",
    "team_stats_full_10.to_csv('team_stats_full_10.csv')"
   ]
  }
 ],
 "metadata": {
  "kernelspec": {
   "display_name": "nba-env",
   "language": "python",
   "name": "nba-env"
  },
  "language_info": {
   "codemirror_mode": {
    "name": "ipython",
    "version": 3
   },
   "file_extension": ".py",
   "mimetype": "text/x-python",
   "name": "python",
   "nbconvert_exporter": "python",
   "pygments_lexer": "ipython3",
   "version": "3.11.3"
  }
 },
 "nbformat": 4,
 "nbformat_minor": 5
}
