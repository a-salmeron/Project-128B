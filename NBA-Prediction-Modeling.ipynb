{
 "cells": [
  {
   "cell_type": "markdown",
   "id": "e6c30d2d",
   "metadata": {},
   "source": [
    "# NBA Prediction Modeling\n",
    "\n",
    "## Luke DiPerna\n",
    "\n",
    "### August 2023"
   ]
  },
  {
   "cell_type": "markdown",
   "id": "e306857a",
   "metadata": {},
   "source": [
    "(pic)"
   ]
  },
  {
   "cell_type": "markdown",
   "id": "08905361",
   "metadata": {},
   "source": [
    "## Project Goal"
   ]
  },
  {
   "cell_type": "markdown",
   "id": "bceaefcf",
   "metadata": {},
   "source": [
    "## Table of Contents"
   ]
  },
  {
   "cell_type": "markdown",
   "id": "782b8863",
   "metadata": {},
   "source": [
    "## Data\n",
    "\n",
    "The source is scraped from basketball-reference. Includes all the stuff...etc. Needs to be aggregated."
   ]
  },
  {
   "cell_type": "code",
   "execution_count": null,
   "id": "21abf2c0",
   "metadata": {},
   "outputs": [],
   "source": []
  },
  {
   "cell_type": "markdown",
   "id": "17c35c15",
   "metadata": {},
   "source": [
    "## Data Preparation"
   ]
  },
  {
   "cell_type": "code",
   "execution_count": null,
   "id": "4f748b95",
   "metadata": {},
   "outputs": [],
   "source": [
    "import numpy as np\n",
    "import pandas as pd\n",
    "import matplotlib.pyplot as plt\n",
    "import seaborn as sns\n",
    "import sqlite3\n",
    "\n",
    "from sklearn.model_selection import train_test_split, cross_val_predict, cross_val_score, cross_validate, GridSearchCV\n",
    "from sklearn.preprocessing import StandardScaler\n",
    "from sklearn.linear_model import LinearRegression, LogisticRegression\n",
    "from sklearn.ensemble import RandomForestClassifier\n",
    "from sklearn.neighbors import KNeighborsClassifier\n",
    "from sklearn.naive_bayes import GaussianNB\n",
    "from sklearn.svm import SVC\n",
    "from sklearn.metrics import accuracy_score, confusion_matrix, ConfusionMatrixDisplay, classification_report, mean_squared_error\n",
    "\n",
    "# import tensorflow as tf\n",
    "# from tensorflow import keras\n",
    "\n",
    "import statsmodels.api as sm\n",
    "\n",
    "import warnings\n",
    "warnings.filterwarnings(\"ignore\")\n",
    "\n",
    "# set global style\n",
    "sns.set_theme()\n",
    "\n",
    "pd.set_option('display.max_columns', None)\n",
    "\n",
    "seed=99"
   ]
  },
  {
   "cell_type": "markdown",
   "id": "506eb5ad",
   "metadata": {},
   "source": [
    "### sqlite database"
   ]
  },
  {
   "cell_type": "code",
   "execution_count": 1,
   "id": "4cad6f80",
   "metadata": {},
   "outputs": [
    {
     "ename": "NameError",
     "evalue": "name 'sqlite3' is not defined",
     "output_type": "error",
     "traceback": [
      "\u001b[1;31m---------------------------------------------------------------------------\u001b[0m",
      "\u001b[1;31mNameError\u001b[0m                                 Traceback (most recent call last)",
      "Cell \u001b[1;32mIn[1], line 1\u001b[0m\n\u001b[1;32m----> 1\u001b[0m conn \u001b[38;5;241m=\u001b[39m sqlite3\u001b[38;5;241m.\u001b[39mconnect(\u001b[38;5;124m'\u001b[39m\u001b[38;5;124mNBA-Boxscore-Database.sqlite\u001b[39m\u001b[38;5;124m'\u001b[39m)\n",
      "\u001b[1;31mNameError\u001b[0m: name 'sqlite3' is not defined"
     ]
    }
   ],
   "source": [
    "conn = sqlite3.connect('NBA-Boxscore-Database.sqlite')"
   ]
  },
  {
   "cell_type": "code",
   "execution_count": null,
   "id": "341ce222",
   "metadata": {},
   "outputs": [],
   "source": [
    "query = 'SELECT * from game_info'\n",
    "game_info = pd.read_sql(query, con=conn)\n",
    "game_info"
   ]
  },
  {
   "cell_type": "code",
   "execution_count": null,
   "id": "a013f76d",
   "metadata": {},
   "outputs": [],
   "source": [
    "query = 'SELECT * from team_stats'\n",
    "team_stats = pd.read_sql(query, con=conn)\n",
    "team_stats"
   ]
  },
  {
   "cell_type": "code",
   "execution_count": null,
   "id": "aabda0d6",
   "metadata": {},
   "outputs": [],
   "source": [
    "query = 'SELECT * from player_stats'\n",
    "player_stats = pd.read_sql(query, con=conn)\n",
    "player_stats"
   ]
  },
  {
   "cell_type": "code",
   "execution_count": null,
   "id": "7e332439",
   "metadata": {},
   "outputs": [],
   "source": [
    "con.close()"
   ]
  },
  {
   "cell_type": "markdown",
   "id": "7abe0e5a",
   "metadata": {},
   "source": [
    "### CSVs"
   ]
  },
  {
   "cell_type": "code",
   "execution_count": null,
   "id": "de5719e4",
   "metadata": {},
   "outputs": [],
   "source": []
  },
  {
   "cell_type": "code",
   "execution_count": null,
   "id": "53bc0a2d",
   "metadata": {},
   "outputs": [],
   "source": []
  },
  {
   "cell_type": "code",
   "execution_count": null,
   "id": "d32c1a94",
   "metadata": {},
   "outputs": [],
   "source": []
  },
  {
   "cell_type": "markdown",
   "id": "e09fea7d",
   "metadata": {},
   "source": [
    "## Modeling"
   ]
  },
  {
   "cell_type": "markdown",
   "id": "a6eec563",
   "metadata": {},
   "source": [
    "## Results"
   ]
  },
  {
   "cell_type": "markdown",
   "id": "f00bbd4f",
   "metadata": {},
   "source": [
    "## Conclusion"
   ]
  },
  {
   "cell_type": "markdown",
   "id": "4524497c",
   "metadata": {},
   "source": [
    "## Next Steps"
   ]
  }
 ],
 "metadata": {
  "kernelspec": {
   "display_name": "nba-env",
   "language": "python",
   "name": "nba-env"
  },
  "language_info": {
   "codemirror_mode": {
    "name": "ipython",
    "version": 3
   },
   "file_extension": ".py",
   "mimetype": "text/x-python",
   "name": "python",
   "nbconvert_exporter": "python",
   "pygments_lexer": "ipython3",
   "version": "3.11.3"
  }
 },
 "nbformat": 4,
 "nbformat_minor": 5
}
