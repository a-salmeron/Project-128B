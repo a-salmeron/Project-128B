{
 "cells": [
  {
   "cell_type": "code",
   "execution_count": 77,
   "id": "5b3b7e75",
   "metadata": {},
   "outputs": [],
   "source": [
    "import numpy as np\n",
    "import pandas as pd\n",
    "import matplotlib.pyplot as plt\n",
    "import seaborn as sns\n",
    "import sqlite3\n",
    "# import sklearn\n",
    "\n",
    "from sklearn.model_selection import train_test_split, cross_val_predict, cross_val_score, cross_validate, GridSearchCV\n",
    "from sklearn.preprocessing import StandardScaler\n",
    "from sklearn.linear_model import LinearRegression, LogisticRegression\n",
    "# from sklearn.tree import DecisionTreeClassifier\n",
    "from sklearn.ensemble import RandomForestClassifier\n",
    "from sklearn.neighbors import KNeighborsClassifier\n",
    "from sklearn.naive_bayes import GaussianNB\n",
    "from sklearn.svm import SVC\n",
    "from sklearn.metrics import accuracy_score, confusion_matrix, ConfusionMatrixDisplay, classification_report, mean_squared_error\n",
    "\n",
    "# import tensorflow as tf\n",
    "# from tensorflow import keras\n",
    "\n",
    "import statsmodels.api as sm\n",
    "\n",
    "import warnings\n",
    "warnings.filterwarnings(\"ignore\")\n",
    "\n",
    "pd.set_option('display.max_columns', None)\n",
    "\n",
    "seed=99"
   ]
  },
  {
   "cell_type": "code",
   "execution_count": 2,
   "id": "f0a5fb12",
   "metadata": {},
   "outputs": [
    {
     "data": {
      "text/html": [
       "<div>\n",
       "<style scoped>\n",
       "    .dataframe tbody tr th:only-of-type {\n",
       "        vertical-align: middle;\n",
       "    }\n",
       "\n",
       "    .dataframe tbody tr th {\n",
       "        vertical-align: top;\n",
       "    }\n",
       "\n",
       "    .dataframe thead th {\n",
       "        text-align: right;\n",
       "    }\n",
       "</style>\n",
       "<table border=\"1\" class=\"dataframe\">\n",
       "  <thead>\n",
       "    <tr style=\"text-align: right;\">\n",
       "      <th></th>\n",
       "      <th>game_id</th>\n",
       "      <th>season</th>\n",
       "      <th>date</th>\n",
       "      <th>away_team</th>\n",
       "      <th>away_score</th>\n",
       "      <th>home_team</th>\n",
       "      <th>home_score</th>\n",
       "      <th>result</th>\n",
       "      <th>a_eFGp</th>\n",
       "      <th>a_FTr</th>\n",
       "      <th>a_ORBp</th>\n",
       "      <th>a_TOVp</th>\n",
       "      <th>h_eFGp</th>\n",
       "      <th>h_FTr</th>\n",
       "      <th>h_ORBp</th>\n",
       "      <th>h_TOVp</th>\n",
       "    </tr>\n",
       "  </thead>\n",
       "  <tbody>\n",
       "    <tr>\n",
       "      <th>0</th>\n",
       "      <td>131410290001</td>\n",
       "      <td>1314</td>\n",
       "      <td>2013-10-29</td>\n",
       "      <td>ORL</td>\n",
       "      <td>87</td>\n",
       "      <td>IND</td>\n",
       "      <td>97</td>\n",
       "      <td>1</td>\n",
       "      <td>NaN</td>\n",
       "      <td>NaN</td>\n",
       "      <td>NaN</td>\n",
       "      <td>NaN</td>\n",
       "      <td>NaN</td>\n",
       "      <td>NaN</td>\n",
       "      <td>NaN</td>\n",
       "      <td>NaN</td>\n",
       "    </tr>\n",
       "    <tr>\n",
       "      <th>1</th>\n",
       "      <td>131410290002</td>\n",
       "      <td>1314</td>\n",
       "      <td>2013-10-29</td>\n",
       "      <td>CHI</td>\n",
       "      <td>95</td>\n",
       "      <td>MIA</td>\n",
       "      <td>107</td>\n",
       "      <td>1</td>\n",
       "      <td>NaN</td>\n",
       "      <td>NaN</td>\n",
       "      <td>NaN</td>\n",
       "      <td>NaN</td>\n",
       "      <td>NaN</td>\n",
       "      <td>NaN</td>\n",
       "      <td>NaN</td>\n",
       "      <td>NaN</td>\n",
       "    </tr>\n",
       "    <tr>\n",
       "      <th>2</th>\n",
       "      <td>131410290003</td>\n",
       "      <td>1314</td>\n",
       "      <td>2013-10-29</td>\n",
       "      <td>LAC</td>\n",
       "      <td>103</td>\n",
       "      <td>LAL</td>\n",
       "      <td>116</td>\n",
       "      <td>1</td>\n",
       "      <td>NaN</td>\n",
       "      <td>NaN</td>\n",
       "      <td>NaN</td>\n",
       "      <td>NaN</td>\n",
       "      <td>NaN</td>\n",
       "      <td>NaN</td>\n",
       "      <td>NaN</td>\n",
       "      <td>NaN</td>\n",
       "    </tr>\n",
       "    <tr>\n",
       "      <th>3</th>\n",
       "      <td>131410300004</td>\n",
       "      <td>1314</td>\n",
       "      <td>2013-10-30</td>\n",
       "      <td>BRK</td>\n",
       "      <td>94</td>\n",
       "      <td>CLE</td>\n",
       "      <td>98</td>\n",
       "      <td>1</td>\n",
       "      <td>NaN</td>\n",
       "      <td>NaN</td>\n",
       "      <td>NaN</td>\n",
       "      <td>NaN</td>\n",
       "      <td>NaN</td>\n",
       "      <td>NaN</td>\n",
       "      <td>NaN</td>\n",
       "      <td>NaN</td>\n",
       "    </tr>\n",
       "    <tr>\n",
       "      <th>4</th>\n",
       "      <td>131410300005</td>\n",
       "      <td>1314</td>\n",
       "      <td>2013-10-30</td>\n",
       "      <td>BOS</td>\n",
       "      <td>87</td>\n",
       "      <td>TOR</td>\n",
       "      <td>93</td>\n",
       "      <td>1</td>\n",
       "      <td>NaN</td>\n",
       "      <td>NaN</td>\n",
       "      <td>NaN</td>\n",
       "      <td>NaN</td>\n",
       "      <td>NaN</td>\n",
       "      <td>NaN</td>\n",
       "      <td>NaN</td>\n",
       "      <td>NaN</td>\n",
       "    </tr>\n",
       "    <tr>\n",
       "      <th>...</th>\n",
       "      <td>...</td>\n",
       "      <td>...</td>\n",
       "      <td>...</td>\n",
       "      <td>...</td>\n",
       "      <td>...</td>\n",
       "      <td>...</td>\n",
       "      <td>...</td>\n",
       "      <td>...</td>\n",
       "      <td>...</td>\n",
       "      <td>...</td>\n",
       "      <td>...</td>\n",
       "      <td>...</td>\n",
       "      <td>...</td>\n",
       "      <td>...</td>\n",
       "      <td>...</td>\n",
       "      <td>...</td>\n",
       "    </tr>\n",
       "    <tr>\n",
       "      <th>11974</th>\n",
       "      <td>222304091226</td>\n",
       "      <td>2223</td>\n",
       "      <td>2023-04-09</td>\n",
       "      <td>UTA</td>\n",
       "      <td>117</td>\n",
       "      <td>LAL</td>\n",
       "      <td>128</td>\n",
       "      <td>1</td>\n",
       "      <td>0.526835</td>\n",
       "      <td>0.203724</td>\n",
       "      <td>0.2417</td>\n",
       "      <td>0.127276</td>\n",
       "      <td>0.571512</td>\n",
       "      <td>0.262791</td>\n",
       "      <td>0.2569</td>\n",
       "      <td>0.118315</td>\n",
       "    </tr>\n",
       "    <tr>\n",
       "      <th>11975</th>\n",
       "      <td>222304091227</td>\n",
       "      <td>2223</td>\n",
       "      <td>2023-04-09</td>\n",
       "      <td>NOP</td>\n",
       "      <td>108</td>\n",
       "      <td>MIN</td>\n",
       "      <td>113</td>\n",
       "      <td>1</td>\n",
       "      <td>0.572581</td>\n",
       "      <td>0.215438</td>\n",
       "      <td>0.2313</td>\n",
       "      <td>0.121103</td>\n",
       "      <td>0.560502</td>\n",
       "      <td>0.207763</td>\n",
       "      <td>0.2320</td>\n",
       "      <td>0.119090</td>\n",
       "    </tr>\n",
       "    <tr>\n",
       "      <th>11976</th>\n",
       "      <td>222304091228</td>\n",
       "      <td>2223</td>\n",
       "      <td>2023-04-09</td>\n",
       "      <td>MEM</td>\n",
       "      <td>100</td>\n",
       "      <td>OKC</td>\n",
       "      <td>115</td>\n",
       "      <td>1</td>\n",
       "      <td>0.593341</td>\n",
       "      <td>0.179039</td>\n",
       "      <td>0.2285</td>\n",
       "      <td>0.112724</td>\n",
       "      <td>0.506515</td>\n",
       "      <td>0.235613</td>\n",
       "      <td>0.2587</td>\n",
       "      <td>0.092797</td>\n",
       "    </tr>\n",
       "    <tr>\n",
       "      <th>11977</th>\n",
       "      <td>222304091229</td>\n",
       "      <td>2223</td>\n",
       "      <td>2023-04-09</td>\n",
       "      <td>LAC</td>\n",
       "      <td>119</td>\n",
       "      <td>PHO</td>\n",
       "      <td>114</td>\n",
       "      <td>0</td>\n",
       "      <td>0.596108</td>\n",
       "      <td>0.208726</td>\n",
       "      <td>0.2185</td>\n",
       "      <td>0.126932</td>\n",
       "      <td>0.534066</td>\n",
       "      <td>0.202198</td>\n",
       "      <td>0.2686</td>\n",
       "      <td>0.098874</td>\n",
       "    </tr>\n",
       "    <tr>\n",
       "      <th>11978</th>\n",
       "      <td>222304091230</td>\n",
       "      <td>2223</td>\n",
       "      <td>2023-04-09</td>\n",
       "      <td>GSW</td>\n",
       "      <td>157</td>\n",
       "      <td>POR</td>\n",
       "      <td>101</td>\n",
       "      <td>0</td>\n",
       "      <td>0.570067</td>\n",
       "      <td>0.202915</td>\n",
       "      <td>0.3134</td>\n",
       "      <td>0.135201</td>\n",
       "      <td>0.516040</td>\n",
       "      <td>0.170354</td>\n",
       "      <td>0.1848</td>\n",
       "      <td>0.111775</td>\n",
       "    </tr>\n",
       "  </tbody>\n",
       "</table>\n",
       "<p>11979 rows × 16 columns</p>\n",
       "</div>"
      ],
      "text/plain": [
       "            game_id  season        date away_team  away_score home_team  \\\n",
       "0      131410290001    1314  2013-10-29       ORL          87       IND   \n",
       "1      131410290002    1314  2013-10-29       CHI          95       MIA   \n",
       "2      131410290003    1314  2013-10-29       LAC         103       LAL   \n",
       "3      131410300004    1314  2013-10-30       BRK          94       CLE   \n",
       "4      131410300005    1314  2013-10-30       BOS          87       TOR   \n",
       "...             ...     ...         ...       ...         ...       ...   \n",
       "11974  222304091226    2223  2023-04-09       UTA         117       LAL   \n",
       "11975  222304091227    2223  2023-04-09       NOP         108       MIN   \n",
       "11976  222304091228    2223  2023-04-09       MEM         100       OKC   \n",
       "11977  222304091229    2223  2023-04-09       LAC         119       PHO   \n",
       "11978  222304091230    2223  2023-04-09       GSW         157       POR   \n",
       "\n",
       "       home_score  result    a_eFGp     a_FTr  a_ORBp    a_TOVp    h_eFGp  \\\n",
       "0              97       1       NaN       NaN     NaN       NaN       NaN   \n",
       "1             107       1       NaN       NaN     NaN       NaN       NaN   \n",
       "2             116       1       NaN       NaN     NaN       NaN       NaN   \n",
       "3              98       1       NaN       NaN     NaN       NaN       NaN   \n",
       "4              93       1       NaN       NaN     NaN       NaN       NaN   \n",
       "...           ...     ...       ...       ...     ...       ...       ...   \n",
       "11974         128       1  0.526835  0.203724  0.2417  0.127276  0.571512   \n",
       "11975         113       1  0.572581  0.215438  0.2313  0.121103  0.560502   \n",
       "11976         115       1  0.593341  0.179039  0.2285  0.112724  0.506515   \n",
       "11977         114       0  0.596108  0.208726  0.2185  0.126932  0.534066   \n",
       "11978         101       0  0.570067  0.202915  0.3134  0.135201  0.516040   \n",
       "\n",
       "          h_FTr  h_ORBp    h_TOVp  \n",
       "0           NaN     NaN       NaN  \n",
       "1           NaN     NaN       NaN  \n",
       "2           NaN     NaN       NaN  \n",
       "3           NaN     NaN       NaN  \n",
       "4           NaN     NaN       NaN  \n",
       "...         ...     ...       ...  \n",
       "11974  0.262791  0.2569  0.118315  \n",
       "11975  0.207763  0.2320  0.119090  \n",
       "11976  0.235613  0.2587  0.092797  \n",
       "11977  0.202198  0.2686  0.098874  \n",
       "11978  0.170354  0.1848  0.111775  \n",
       "\n",
       "[11979 rows x 16 columns]"
      ]
     },
     "execution_count": 2,
     "metadata": {},
     "output_type": "execute_result"
    }
   ],
   "source": [
    "four_factor_10 = pd.read_csv('four_factor_10.csv', index_col=0)\n",
    "four_factor_10"
   ]
  },
  {
   "cell_type": "code",
   "execution_count": 3,
   "id": "e7ddffe1",
   "metadata": {},
   "outputs": [
    {
     "name": "stdout",
     "output_type": "stream",
     "text": [
      "<class 'pandas.core.frame.DataFrame'>\n",
      "Int64Index: 11979 entries, 0 to 11978\n",
      "Data columns (total 16 columns):\n",
      " #   Column      Non-Null Count  Dtype  \n",
      "---  ------      --------------  -----  \n",
      " 0   game_id     11979 non-null  int64  \n",
      " 1   season      11979 non-null  int64  \n",
      " 2   date        11979 non-null  object \n",
      " 3   away_team   11979 non-null  object \n",
      " 4   away_score  11979 non-null  int64  \n",
      " 5   home_team   11979 non-null  object \n",
      " 6   home_score  11979 non-null  int64  \n",
      " 7   result      11979 non-null  int64  \n",
      " 8   a_eFGp      11966 non-null  float64\n",
      " 9   a_FTr       11966 non-null  float64\n",
      " 10  a_ORBp      11966 non-null  float64\n",
      " 11  a_TOVp      11966 non-null  float64\n",
      " 12  h_eFGp      11961 non-null  float64\n",
      " 13  h_FTr       11961 non-null  float64\n",
      " 14  h_ORBp      11961 non-null  float64\n",
      " 15  h_TOVp      11961 non-null  float64\n",
      "dtypes: float64(8), int64(5), object(3)\n",
      "memory usage: 1.6+ MB\n"
     ]
    }
   ],
   "source": [
    "four_factor_10.info()"
   ]
  },
  {
   "cell_type": "code",
   "execution_count": 4,
   "id": "5a65d470",
   "metadata": {},
   "outputs": [
    {
     "data": {
      "text/html": [
       "<div>\n",
       "<style scoped>\n",
       "    .dataframe tbody tr th:only-of-type {\n",
       "        vertical-align: middle;\n",
       "    }\n",
       "\n",
       "    .dataframe tbody tr th {\n",
       "        vertical-align: top;\n",
       "    }\n",
       "\n",
       "    .dataframe thead th {\n",
       "        text-align: right;\n",
       "    }\n",
       "</style>\n",
       "<table border=\"1\" class=\"dataframe\">\n",
       "  <thead>\n",
       "    <tr style=\"text-align: right;\">\n",
       "      <th></th>\n",
       "      <th>game_id</th>\n",
       "      <th>season</th>\n",
       "      <th>away_score</th>\n",
       "      <th>home_score</th>\n",
       "      <th>result</th>\n",
       "      <th>a_eFGp</th>\n",
       "      <th>a_FTr</th>\n",
       "      <th>a_ORBp</th>\n",
       "      <th>a_TOVp</th>\n",
       "      <th>h_eFGp</th>\n",
       "      <th>h_FTr</th>\n",
       "      <th>h_ORBp</th>\n",
       "      <th>h_TOVp</th>\n",
       "    </tr>\n",
       "  </thead>\n",
       "  <tbody>\n",
       "    <tr>\n",
       "      <th>count</th>\n",
       "      <td>1.197900e+04</td>\n",
       "      <td>11979.000000</td>\n",
       "      <td>11979.000000</td>\n",
       "      <td>11979.000000</td>\n",
       "      <td>11979.000000</td>\n",
       "      <td>11966.000000</td>\n",
       "      <td>11966.000000</td>\n",
       "      <td>11966.000000</td>\n",
       "      <td>11966.000000</td>\n",
       "      <td>11961.000000</td>\n",
       "      <td>11961.000000</td>\n",
       "      <td>11961.000000</td>\n",
       "      <td>11961.000000</td>\n",
       "    </tr>\n",
       "    <tr>\n",
       "      <th>mean</th>\n",
       "      <td>1.763236e+11</td>\n",
       "      <td>1763.175557</td>\n",
       "      <td>106.328325</td>\n",
       "      <td>108.643042</td>\n",
       "      <td>0.572502</td>\n",
       "      <td>0.519998</td>\n",
       "      <td>0.203046</td>\n",
       "      <td>0.233570</td>\n",
       "      <td>0.123494</td>\n",
       "      <td>0.519387</td>\n",
       "      <td>0.203006</td>\n",
       "      <td>0.233158</td>\n",
       "      <td>0.123541</td>\n",
       "    </tr>\n",
       "    <tr>\n",
       "      <th>std</th>\n",
       "      <td>2.920031e+10</td>\n",
       "      <td>292.003775</td>\n",
       "      <td>13.135676</td>\n",
       "      <td>13.018141</td>\n",
       "      <td>0.494736</td>\n",
       "      <td>0.031223</td>\n",
       "      <td>0.031784</td>\n",
       "      <td>0.033936</td>\n",
       "      <td>0.014691</td>\n",
       "      <td>0.031091</td>\n",
       "      <td>0.031842</td>\n",
       "      <td>0.033643</td>\n",
       "      <td>0.014436</td>\n",
       "    </tr>\n",
       "    <tr>\n",
       "      <th>min</th>\n",
       "      <td>1.314010e+11</td>\n",
       "      <td>1314.000000</td>\n",
       "      <td>66.000000</td>\n",
       "      <td>64.000000</td>\n",
       "      <td>0.000000</td>\n",
       "      <td>0.415638</td>\n",
       "      <td>0.064516</td>\n",
       "      <td>0.108000</td>\n",
       "      <td>0.070244</td>\n",
       "      <td>0.388889</td>\n",
       "      <td>0.086022</td>\n",
       "      <td>0.116500</td>\n",
       "      <td>0.066163</td>\n",
       "    </tr>\n",
       "    <tr>\n",
       "      <th>25%</th>\n",
       "      <td>1.516032e+11</td>\n",
       "      <td>1516.000000</td>\n",
       "      <td>97.000000</td>\n",
       "      <td>100.000000</td>\n",
       "      <td>0.000000</td>\n",
       "      <td>0.498224</td>\n",
       "      <td>0.180513</td>\n",
       "      <td>0.210200</td>\n",
       "      <td>0.113184</td>\n",
       "      <td>0.498214</td>\n",
       "      <td>0.180751</td>\n",
       "      <td>0.209900</td>\n",
       "      <td>0.113581</td>\n",
       "    </tr>\n",
       "    <tr>\n",
       "      <th>50%</th>\n",
       "      <td>1.718121e+11</td>\n",
       "      <td>1718.000000</td>\n",
       "      <td>106.000000</td>\n",
       "      <td>108.000000</td>\n",
       "      <td>1.000000</td>\n",
       "      <td>0.520177</td>\n",
       "      <td>0.200895</td>\n",
       "      <td>0.232900</td>\n",
       "      <td>0.122899</td>\n",
       "      <td>0.519298</td>\n",
       "      <td>0.200935</td>\n",
       "      <td>0.232800</td>\n",
       "      <td>0.123143</td>\n",
       "    </tr>\n",
       "    <tr>\n",
       "      <th>75%</th>\n",
       "      <td>2.021032e+11</td>\n",
       "      <td>2021.000000</td>\n",
       "      <td>115.000000</td>\n",
       "      <td>117.000000</td>\n",
       "      <td>1.000000</td>\n",
       "      <td>0.540838</td>\n",
       "      <td>0.222869</td>\n",
       "      <td>0.255800</td>\n",
       "      <td>0.133110</td>\n",
       "      <td>0.539752</td>\n",
       "      <td>0.223267</td>\n",
       "      <td>0.254600</td>\n",
       "      <td>0.132919</td>\n",
       "    </tr>\n",
       "    <tr>\n",
       "      <th>max</th>\n",
       "      <td>2.223123e+11</td>\n",
       "      <td>2223.000000</td>\n",
       "      <td>176.000000</td>\n",
       "      <td>175.000000</td>\n",
       "      <td>1.000000</td>\n",
       "      <td>0.642857</td>\n",
       "      <td>0.358025</td>\n",
       "      <td>0.422000</td>\n",
       "      <td>0.224873</td>\n",
       "      <td>0.627059</td>\n",
       "      <td>0.368889</td>\n",
       "      <td>0.361000</td>\n",
       "      <td>0.218341</td>\n",
       "    </tr>\n",
       "  </tbody>\n",
       "</table>\n",
       "</div>"
      ],
      "text/plain": [
       "            game_id        season    away_score    home_score        result  \\\n",
       "count  1.197900e+04  11979.000000  11979.000000  11979.000000  11979.000000   \n",
       "mean   1.763236e+11   1763.175557    106.328325    108.643042      0.572502   \n",
       "std    2.920031e+10    292.003775     13.135676     13.018141      0.494736   \n",
       "min    1.314010e+11   1314.000000     66.000000     64.000000      0.000000   \n",
       "25%    1.516032e+11   1516.000000     97.000000    100.000000      0.000000   \n",
       "50%    1.718121e+11   1718.000000    106.000000    108.000000      1.000000   \n",
       "75%    2.021032e+11   2021.000000    115.000000    117.000000      1.000000   \n",
       "max    2.223123e+11   2223.000000    176.000000    175.000000      1.000000   \n",
       "\n",
       "             a_eFGp         a_FTr        a_ORBp        a_TOVp        h_eFGp  \\\n",
       "count  11966.000000  11966.000000  11966.000000  11966.000000  11961.000000   \n",
       "mean       0.519998      0.203046      0.233570      0.123494      0.519387   \n",
       "std        0.031223      0.031784      0.033936      0.014691      0.031091   \n",
       "min        0.415638      0.064516      0.108000      0.070244      0.388889   \n",
       "25%        0.498224      0.180513      0.210200      0.113184      0.498214   \n",
       "50%        0.520177      0.200895      0.232900      0.122899      0.519298   \n",
       "75%        0.540838      0.222869      0.255800      0.133110      0.539752   \n",
       "max        0.642857      0.358025      0.422000      0.224873      0.627059   \n",
       "\n",
       "              h_FTr        h_ORBp        h_TOVp  \n",
       "count  11961.000000  11961.000000  11961.000000  \n",
       "mean       0.203006      0.233158      0.123541  \n",
       "std        0.031842      0.033643      0.014436  \n",
       "min        0.086022      0.116500      0.066163  \n",
       "25%        0.180751      0.209900      0.113581  \n",
       "50%        0.200935      0.232800      0.123143  \n",
       "75%        0.223267      0.254600      0.132919  \n",
       "max        0.368889      0.361000      0.218341  "
      ]
     },
     "execution_count": 4,
     "metadata": {},
     "output_type": "execute_result"
    }
   ],
   "source": [
    "four_factor_10.describe()"
   ]
  },
  {
   "cell_type": "code",
   "execution_count": 5,
   "id": "868ec9d9",
   "metadata": {},
   "outputs": [],
   "source": [
    "four_factor_10.dropna(inplace=True)\n",
    "four_factor_10.reset_index(drop=True, inplace=True)"
   ]
  },
  {
   "cell_type": "code",
   "execution_count": 6,
   "id": "64de1cb7",
   "metadata": {},
   "outputs": [
    {
     "data": {
      "image/png": "[encoded data removed]",
      "text/plain": [
       "<Figure size 1440x1440 with 16 Axes>"
      ]
     },
     "metadata": {
      "needs_background": "light"
     },
     "output_type": "display_data"
    }
   ],
   "source": [
    "four_factor_10.hist(figsize=(20,20));"
   ]
  },
  {
   "cell_type": "code",
   "execution_count": 7,
   "id": "80eab7fc",
   "metadata": {
    "scrolled": true
   },
   "outputs": [
    {
     "data": {
      "text/plain": [
       "1    0.572026\n",
       "0    0.427974\n",
       "Name: result, dtype: float64"
      ]
     },
     "execution_count": 7,
     "metadata": {},
     "output_type": "execute_result"
    }
   ],
   "source": [
    "four_factor_10['result'].value_counts(normalize=True)"
   ]
  },
  {
   "cell_type": "code",
   "execution_count": 8,
   "id": "52ef34b3",
   "metadata": {},
   "outputs": [],
   "source": [
    "four_factor_sum = four_factor_10"
   ]
  },
  {
   "cell_type": "code",
   "execution_count": 9,
   "id": "e4a88b82",
   "metadata": {},
   "outputs": [],
   "source": [
    "four_factor_10['eFGp'] = four_factor_10['a_eFGp'] - four_factor_10['h_eFGp']\n",
    "four_factor_10['FTr'] = four_factor_10['a_FTr'] - four_factor_10['h_FTr']\n",
    "four_factor_10['ORBp'] = four_factor_10['a_ORBp'] - four_factor_10['h_ORBp']\n",
    "four_factor_10['TOVp'] = four_factor_10['a_TOVp'] - four_factor_10['h_TOVp']"
   ]
  },
  {
   "cell_type": "code",
   "execution_count": null,
   "id": "e08cbb7f",
   "metadata": {},
   "outputs": [],
   "source": []
  },
  {
   "cell_type": "markdown",
   "id": "f3479805",
   "metadata": {},
   "source": [
    "### baseline model is to just pick home team (57.2% accuracy)."
   ]
  },
  {
   "cell_type": "code",
   "execution_count": 27,
   "id": "fb5ab667",
   "metadata": {},
   "outputs": [],
   "source": [
    "stat_columns = ['a_eFGp', 'a_FTr', 'a_ORBp', 'a_TOVp', 'h_eFGp', 'h_FTr', 'h_ORBp', 'h_TOVp']\n",
    "X = four_factor_10[stat_columns]\n",
    "y = four_factor_10['result']\n",
    "\n",
    "X_train, X_test, y_train, y_test = train_test_split(X, y, train_size=.75, random_state=seed)"
   ]
  },
  {
   "cell_type": "code",
   "execution_count": 28,
   "id": "546b4f66",
   "metadata": {},
   "outputs": [
    {
     "data": {
      "text/plain": [
       "0.5983277591973244"
      ]
     },
     "execution_count": 28,
     "metadata": {},
     "output_type": "execute_result"
    }
   ],
   "source": [
    "logreg = LogisticRegression()\n",
    "\n",
    "cv_scores = cross_val_score(logreg, X_train, y_train, cv=3)\n",
    "cv_scores.mean()"
   ]
  },
  {
   "cell_type": "code",
   "execution_count": 29,
   "id": "98da3b39",
   "metadata": {},
   "outputs": [
    {
     "data": {
      "text/plain": [
       "0.5917753259779338"
      ]
     },
     "execution_count": 29,
     "metadata": {},
     "output_type": "execute_result"
    }
   ],
   "source": [
    "model = logreg.fit(X_train, y_train)\n",
    "train_pred = logreg.predict(X_train)\n",
    "test_pred = logreg.predict(X_test)\n",
    "model.score(X_test, y_test)"
   ]
  },
  {
   "cell_type": "code",
   "execution_count": 12,
   "id": "cdd4a409",
   "metadata": {},
   "outputs": [
    {
     "name": "stdout",
     "output_type": "stream",
     "text": [
      "Optimization terminated successfully.\n",
      "         Current function value: 0.651715\n",
      "         Iterations 5\n",
      "                           Logit Regression Results                           \n",
      "==============================================================================\n",
      "Dep. Variable:                 result   No. Observations:                 8970\n",
      "Model:                          Logit   Df Residuals:                     8962\n",
      "Method:                           MLE   Df Model:                            7\n",
      "Date:                Mon, 12 Jun 2023   Pseudo R-squ.:                 0.04414\n",
      "Time:                        08:46:23   Log-Likelihood:                -5845.9\n",
      "converged:                       True   LL-Null:                       -6115.9\n",
      "Covariance Type:            nonrobust   LLR p-value:                2.047e-112\n",
      "==============================================================================\n",
      "                 coef    std err          z      P>|z|      [0.025      0.975]\n",
      "------------------------------------------------------------------------------\n",
      "a_eFGp       -13.2026      0.667    -19.788      0.000     -14.510     -11.895\n",
      "a_FTr         -0.7606      0.697     -1.092      0.275      -2.126       0.605\n",
      "a_ORBp        -1.6656      0.641     -2.598      0.009      -2.922      -0.409\n",
      "a_TOVp         8.6344      1.483      5.822      0.000       5.728      11.541\n",
      "h_eFGp        13.0234      0.672     19.366      0.000      11.705      14.341\n",
      "h_FTr          2.6457      0.699      3.783      0.000       1.275       4.016\n",
      "h_ORBp         3.2799      0.653      5.025      0.000       2.001       4.559\n",
      "h_TOVp       -11.3064      1.497     -7.551      0.000     -14.241      -8.372\n",
      "==============================================================================\n"
     ]
    }
   ],
   "source": [
    "log_model=sm.Logit(y_train,X_train).fit()\n",
    "print(log_model.summary())"
   ]
  },
  {
   "cell_type": "code",
   "execution_count": null,
   "id": "c21fcd74",
   "metadata": {},
   "outputs": [],
   "source": []
  },
  {
   "cell_type": "code",
   "execution_count": null,
   "id": "d74374b1",
   "metadata": {},
   "outputs": [],
   "source": []
  },
  {
   "cell_type": "code",
   "execution_count": null,
   "id": "08af012e",
   "metadata": {},
   "outputs": [],
   "source": []
  },
  {
   "cell_type": "code",
   "execution_count": null,
   "id": "978077e4",
   "metadata": {},
   "outputs": [],
   "source": []
  },
  {
   "cell_type": "code",
   "execution_count": null,
   "id": "6bb1da65",
   "metadata": {},
   "outputs": [],
   "source": []
  },
  {
   "cell_type": "markdown",
   "id": "5f18019f",
   "metadata": {},
   "source": [
    "### try with combined stats"
   ]
  },
  {
   "cell_type": "code",
   "execution_count": 38,
   "id": "34006261",
   "metadata": {},
   "outputs": [],
   "source": [
    "stat_columns = ['eFGp', 'FTr', 'ORBp', 'TOVp']\n",
    "X = four_factor_10[stat_columns]\n",
    "y = four_factor_10['result']\n",
    "\n",
    "X_train, X_test, y_train, y_test = train_test_split(X, y, train_size=.75, random_state=seed)"
   ]
  },
  {
   "cell_type": "code",
   "execution_count": 39,
   "id": "4ca6256b",
   "metadata": {},
   "outputs": [
    {
     "data": {
      "text/plain": [
       "0.6098104793756968"
      ]
     },
     "execution_count": 39,
     "metadata": {},
     "output_type": "execute_result"
    }
   ],
   "source": [
    "logreg = LogisticRegression()\n",
    "\n",
    "cv_scores = cross_val_score(logreg, X_train, y_train, cv=3)\n",
    "cv_scores.mean()"
   ]
  },
  {
   "cell_type": "code",
   "execution_count": 40,
   "id": "9de7d289",
   "metadata": {
    "scrolled": true
   },
   "outputs": [
    {
     "data": {
      "text/plain": [
       "0.6054831160147108"
      ]
     },
     "execution_count": 40,
     "metadata": {},
     "output_type": "execute_result"
    }
   ],
   "source": [
    "model = logreg.fit(X_train, y_train)\n",
    "train_pred = logreg.predict(X_train)\n",
    "test_pred = logreg.predict(X_test)\n",
    "model.score(X_test, y_test)"
   ]
  },
  {
   "cell_type": "code",
   "execution_count": 59,
   "id": "d5e59279",
   "metadata": {},
   "outputs": [],
   "source": [
    "logreg = LogisticRegression(solver='saga', random_state=seed)"
   ]
  },
  {
   "cell_type": "code",
   "execution_count": 60,
   "id": "db45c0da",
   "metadata": {},
   "outputs": [],
   "source": [
    "param_grid = {\n",
    "    'penalty': ['l1', 'l2', 'elasticnet', None],\n",
    "    'C': [0.1, 1.0, 10.0, 100.0],\n",
    "}"
   ]
  },
  {
   "cell_type": "code",
   "execution_count": 61,
   "id": "86c737ab",
   "metadata": {},
   "outputs": [
    {
     "data": {
      "text/html": [
       "<style>#sk-container-id-4 {color: black;background-color: white;}#sk-container-id-4 pre{padding: 0;}#sk-container-id-4 div.sk-toggleable {background-color: white;}#sk-container-id-4 label.sk-toggleable__label {cursor: pointer;display: block;width: 100%;margin-bottom: 0;padding: 0.3em;box-sizing: border-box;text-align: center;}#sk-container-id-4 label.sk-toggleable__label-arrow:before {content: \"▸\";float: left;margin-right: 0.25em;color: #696969;}#sk-container-id-4 label.sk-toggleable__label-arrow:hover:before {color: black;}#sk-container-id-4 div.sk-estimator:hover label.sk-toggleable__label-arrow:before {color: black;}#sk-container-id-4 div.sk-toggleable__content {max-height: 0;max-width: 0;overflow: hidden;text-align: left;background-color: #f0f8ff;}#sk-container-id-4 div.sk-toggleable__content pre {margin: 0.2em;color: black;border-radius: 0.25em;background-color: #f0f8ff;}#sk-container-id-4 input.sk-toggleable__control:checked~div.sk-toggleable__content {max-height: 200px;max-width: 100%;overflow: auto;}#sk-container-id-4 input.sk-toggleable__control:checked~label.sk-toggleable__label-arrow:before {content: \"▾\";}#sk-container-id-4 div.sk-estimator input.sk-toggleable__control:checked~label.sk-toggleable__label {background-color: #d4ebff;}#sk-container-id-4 div.sk-label input.sk-toggleable__control:checked~label.sk-toggleable__label {background-color: #d4ebff;}#sk-container-id-4 input.sk-hidden--visually {border: 0;clip: rect(1px 1px 1px 1px);clip: rect(1px, 1px, 1px, 1px);height: 1px;margin: -1px;overflow: hidden;padding: 0;position: absolute;width: 1px;}#sk-container-id-4 div.sk-estimator {font-family: monospace;background-color: #f0f8ff;border: 1px dotted black;border-radius: 0.25em;box-sizing: border-box;margin-bottom: 0.5em;}#sk-container-id-4 div.sk-estimator:hover {background-color: #d4ebff;}#sk-container-id-4 div.sk-parallel-item::after {content: \"\";width: 100%;border-bottom: 1px solid gray;flex-grow: 1;}#sk-container-id-4 div.sk-label:hover label.sk-toggleable__label {background-color: #d4ebff;}#sk-container-id-4 div.sk-serial::before {content: \"\";position: absolute;border-left: 1px solid gray;box-sizing: border-box;top: 0;bottom: 0;left: 50%;z-index: 0;}#sk-container-id-4 div.sk-serial {display: flex;flex-direction: column;align-items: center;background-color: white;padding-right: 0.2em;padding-left: 0.2em;position: relative;}#sk-container-id-4 div.sk-item {position: relative;z-index: 1;}#sk-container-id-4 div.sk-parallel {display: flex;align-items: stretch;justify-content: center;background-color: white;position: relative;}#sk-container-id-4 div.sk-item::before, #sk-container-id-4 div.sk-parallel-item::before {content: \"\";position: absolute;border-left: 1px solid gray;box-sizing: border-box;top: 0;bottom: 0;left: 50%;z-index: -1;}#sk-container-id-4 div.sk-parallel-item {display: flex;flex-direction: column;z-index: 1;position: relative;background-color: white;}#sk-container-id-4 div.sk-parallel-item:first-child::after {align-self: flex-end;width: 50%;}#sk-container-id-4 div.sk-parallel-item:last-child::after {align-self: flex-start;width: 50%;}#sk-container-id-4 div.sk-parallel-item:only-child::after {width: 0;}#sk-container-id-4 div.sk-dashed-wrapped {border: 1px dashed gray;margin: 0 0.4em 0.5em 0.4em;box-sizing: border-box;padding-bottom: 0.4em;background-color: white;}#sk-container-id-4 div.sk-label label {font-family: monospace;font-weight: bold;display: inline-block;line-height: 1.2em;}#sk-container-id-4 div.sk-label-container {text-align: center;}#sk-container-id-4 div.sk-container {/* jupyter's `normalize.less` sets `[hidden] { display: none; }` but bootstrap.min.css set `[hidden] { display: none !important; }` so we also need the `!important` here to be able to override the default hidden behavior on the sphinx rendered scikit-learn.org. See: https://github.com/scikit-learn/scikit-learn/issues/21755 */display: inline-block !important;position: relative;}#sk-container-id-4 div.sk-text-repr-fallback {display: none;}</style><div id=\"sk-container-id-4\" class=\"sk-top-container\"><div class=\"sk-text-repr-fallback\"><pre>GridSearchCV(cv=3, estimator=LogisticRegression(solver=&#x27;saga&#x27;),\n",
       "             param_grid={&#x27;C&#x27;: [0.1, 1.0, 10.0, 100.0],\n",
       "                         &#x27;penalty&#x27;: [&#x27;l1&#x27;, &#x27;l2&#x27;, &#x27;elasticnet&#x27;, None]})</pre><b>In a Jupyter environment, please rerun this cell to show the HTML representation or trust the notebook. <br />On GitHub, the HTML representation is unable to render, please try loading this page with nbviewer.org.</b></div><div class=\"sk-container\" hidden><div class=\"sk-item sk-dashed-wrapped\"><div class=\"sk-label-container\"><div class=\"sk-label sk-toggleable\"><input class=\"sk-toggleable__control sk-hidden--visually\" id=\"sk-estimator-id-10\" type=\"checkbox\" ><label for=\"sk-estimator-id-10\" class=\"sk-toggleable__label sk-toggleable__label-arrow\">GridSearchCV</label><div class=\"sk-toggleable__content\"><pre>GridSearchCV(cv=3, estimator=LogisticRegression(solver=&#x27;saga&#x27;),\n",
       "             param_grid={&#x27;C&#x27;: [0.1, 1.0, 10.0, 100.0],\n",
       "                         &#x27;penalty&#x27;: [&#x27;l1&#x27;, &#x27;l2&#x27;, &#x27;elasticnet&#x27;, None]})</pre></div></div></div><div class=\"sk-parallel\"><div class=\"sk-parallel-item\"><div class=\"sk-item\"><div class=\"sk-label-container\"><div class=\"sk-label sk-toggleable\"><input class=\"sk-toggleable__control sk-hidden--visually\" id=\"sk-estimator-id-11\" type=\"checkbox\" ><label for=\"sk-estimator-id-11\" class=\"sk-toggleable__label sk-toggleable__label-arrow\">estimator: LogisticRegression</label><div class=\"sk-toggleable__content\"><pre>LogisticRegression(solver=&#x27;saga&#x27;)</pre></div></div></div><div class=\"sk-serial\"><div class=\"sk-item\"><div class=\"sk-estimator sk-toggleable\"><input class=\"sk-toggleable__control sk-hidden--visually\" id=\"sk-estimator-id-12\" type=\"checkbox\" ><label for=\"sk-estimator-id-12\" class=\"sk-toggleable__label sk-toggleable__label-arrow\">LogisticRegression</label><div class=\"sk-toggleable__content\"><pre>LogisticRegression(solver=&#x27;saga&#x27;)</pre></div></div></div></div></div></div></div></div></div></div>"
      ],
      "text/plain": [
       "GridSearchCV(cv=3, estimator=LogisticRegression(solver='saga'),\n",
       "             param_grid={'C': [0.1, 1.0, 10.0, 100.0],\n",
       "                         'penalty': ['l1', 'l2', 'elasticnet', None]})"
      ]
     },
     "execution_count": 61,
     "metadata": {},
     "output_type": "execute_result"
    }
   ],
   "source": [
    "grid_search = GridSearchCV(logreg, param_grid, cv=3)\n",
    "grid_search.fit(X_train, y_train)"
   ]
  },
  {
   "cell_type": "code",
   "execution_count": 62,
   "id": "bb08cdec",
   "metadata": {
    "scrolled": true
   },
   "outputs": [
    {
     "data": {
      "text/plain": [
       "(LogisticRegression(C=10.0, penalty=None, solver='saga'), 0.6177257525083613)"
      ]
     },
     "execution_count": 62,
     "metadata": {},
     "output_type": "execute_result"
    }
   ],
   "source": [
    "grid_search.best_estimator_, grid_search.best_score_"
   ]
  },
  {
   "cell_type": "code",
   "execution_count": null,
   "id": "cdd1cb31",
   "metadata": {},
   "outputs": [],
   "source": []
  },
  {
   "cell_type": "code",
   "execution_count": 23,
   "id": "8103645c",
   "metadata": {},
   "outputs": [
    {
     "data": {
      "text/plain": [
       "0.5782913998836452"
      ]
     },
     "execution_count": 23,
     "metadata": {},
     "output_type": "execute_result"
    }
   ],
   "source": [
    "# coefs = np.abs(model.coef_[0])\n",
    "# coefs[0] / sum(coefs)"
   ]
  },
  {
   "cell_type": "code",
   "execution_count": 24,
   "id": "07adac90",
   "metadata": {},
   "outputs": [
    {
     "data": {
      "text/plain": [
       "<Axes: ylabel='Feature'>"
      ]
     },
     "execution_count": 24,
     "metadata": {},
     "output_type": "execute_result"
    },
    {
     "data": {
      "image/png": "[encoded data removed]",
      "text/plain": [
       "<Figure size 720x432 with 1 Axes>"
      ]
     },
     "metadata": {
      "needs_background": "light"
     },
     "output_type": "display_data"
    }
   ],
   "source": [
    "# coefficients = model.coef_\n",
    "# avg_importance = np.mean(np.abs(coefficients), axis=0)\n",
    "\n",
    "# feature_importance = pd.DataFrame({'Feature': X.columns, 'Importance': avg_importance})\n",
    "# feature_importance = feature_importance.sort_values('Importance', ascending=True)\n",
    "# feature_importance.plot(x='Feature', y='Importance', kind='barh', figsize=(10, 6))"
   ]
  },
  {
   "cell_type": "code",
   "execution_count": 25,
   "id": "25219ff4",
   "metadata": {},
   "outputs": [
    {
     "name": "stdout",
     "output_type": "stream",
     "text": [
      "Optimization terminated successfully.\n",
      "         Current function value: 0.652259\n",
      "         Iterations 5\n",
      "                           Logit Regression Results                           \n",
      "==============================================================================\n",
      "Dep. Variable:                 result   No. Observations:                 8970\n",
      "Model:                          Logit   Df Residuals:                     8965\n",
      "Method:                           MLE   Df Model:                            4\n",
      "Date:                Mon, 12 Jun 2023   Pseudo R-squ.:                 0.04335\n",
      "Time:                        09:36:48   Log-Likelihood:                -5850.8\n",
      "converged:                       True   LL-Null:                       -6115.9\n",
      "Covariance Type:            nonrobust   LLR p-value:                1.974e-113\n",
      "==============================================================================\n",
      "                 coef    std err          z      P>|z|      [0.025      0.975]\n",
      "------------------------------------------------------------------------------\n",
      "const          0.3356      0.022     15.174      0.000       0.292       0.379\n",
      "eFGp         -13.1142      0.628    -20.890      0.000     -14.345     -11.884\n",
      "FTr           -1.7113      0.512     -3.345      0.001      -2.714      -0.709\n",
      "ORBp          -2.4762      0.492     -5.035      0.000      -3.440      -1.512\n",
      "TOVp           9.9482      1.175      8.470      0.000       7.646      12.250\n",
      "==============================================================================\n"
     ]
    }
   ],
   "source": [
    "X_train = sm.add_constant(X_train)\n",
    "log_model=sm.Logit(y_train,X_train).fit()\n",
    "print(log_model.summary())"
   ]
  },
  {
   "cell_type": "code",
   "execution_count": 26,
   "id": "215c10ea",
   "metadata": {},
   "outputs": [
    {
     "data": {
      "image/png": "[encoded data removed]",
      "text/plain": [
       "<Figure size 432x288 with 2 Axes>"
      ]
     },
     "metadata": {
      "needs_background": "light"
     },
     "output_type": "display_data"
    }
   ],
   "source": [
    "conf_matrix = confusion_matrix(y_true=y_test, y_pred=test_pred)\n",
    "disp = ConfusionMatrixDisplay(conf_matrix)\n",
    "disp.plot();"
   ]
  },
  {
   "cell_type": "markdown",
   "id": "ce7867dd",
   "metadata": {},
   "source": [
    "### lots of false positives (model errs toward always choosing home team)"
   ]
  },
  {
   "cell_type": "markdown",
   "id": "876ccdf2",
   "metadata": {},
   "source": [
    "### KNN"
   ]
  },
  {
   "cell_type": "code",
   "execution_count": 67,
   "id": "c3b9f91c",
   "metadata": {
    "scrolled": true
   },
   "outputs": [
    {
     "data": {
      "text/html": [
       "<style>#sk-container-id-7 {color: black;background-color: white;}#sk-container-id-7 pre{padding: 0;}#sk-container-id-7 div.sk-toggleable {background-color: white;}#sk-container-id-7 label.sk-toggleable__label {cursor: pointer;display: block;width: 100%;margin-bottom: 0;padding: 0.3em;box-sizing: border-box;text-align: center;}#sk-container-id-7 label.sk-toggleable__label-arrow:before {content: \"▸\";float: left;margin-right: 0.25em;color: #696969;}#sk-container-id-7 label.sk-toggleable__label-arrow:hover:before {color: black;}#sk-container-id-7 div.sk-estimator:hover label.sk-toggleable__label-arrow:before {color: black;}#sk-container-id-7 div.sk-toggleable__content {max-height: 0;max-width: 0;overflow: hidden;text-align: left;background-color: #f0f8ff;}#sk-container-id-7 div.sk-toggleable__content pre {margin: 0.2em;color: black;border-radius: 0.25em;background-color: #f0f8ff;}#sk-container-id-7 input.sk-toggleable__control:checked~div.sk-toggleable__content {max-height: 200px;max-width: 100%;overflow: auto;}#sk-container-id-7 input.sk-toggleable__control:checked~label.sk-toggleable__label-arrow:before {content: \"▾\";}#sk-container-id-7 div.sk-estimator input.sk-toggleable__control:checked~label.sk-toggleable__label {background-color: #d4ebff;}#sk-container-id-7 div.sk-label input.sk-toggleable__control:checked~label.sk-toggleable__label {background-color: #d4ebff;}#sk-container-id-7 input.sk-hidden--visually {border: 0;clip: rect(1px 1px 1px 1px);clip: rect(1px, 1px, 1px, 1px);height: 1px;margin: -1px;overflow: hidden;padding: 0;position: absolute;width: 1px;}#sk-container-id-7 div.sk-estimator {font-family: monospace;background-color: #f0f8ff;border: 1px dotted black;border-radius: 0.25em;box-sizing: border-box;margin-bottom: 0.5em;}#sk-container-id-7 div.sk-estimator:hover {background-color: #d4ebff;}#sk-container-id-7 div.sk-parallel-item::after {content: \"\";width: 100%;border-bottom: 1px solid gray;flex-grow: 1;}#sk-container-id-7 div.sk-label:hover label.sk-toggleable__label {background-color: #d4ebff;}#sk-container-id-7 div.sk-serial::before {content: \"\";position: absolute;border-left: 1px solid gray;box-sizing: border-box;top: 0;bottom: 0;left: 50%;z-index: 0;}#sk-container-id-7 div.sk-serial {display: flex;flex-direction: column;align-items: center;background-color: white;padding-right: 0.2em;padding-left: 0.2em;position: relative;}#sk-container-id-7 div.sk-item {position: relative;z-index: 1;}#sk-container-id-7 div.sk-parallel {display: flex;align-items: stretch;justify-content: center;background-color: white;position: relative;}#sk-container-id-7 div.sk-item::before, #sk-container-id-7 div.sk-parallel-item::before {content: \"\";position: absolute;border-left: 1px solid gray;box-sizing: border-box;top: 0;bottom: 0;left: 50%;z-index: -1;}#sk-container-id-7 div.sk-parallel-item {display: flex;flex-direction: column;z-index: 1;position: relative;background-color: white;}#sk-container-id-7 div.sk-parallel-item:first-child::after {align-self: flex-end;width: 50%;}#sk-container-id-7 div.sk-parallel-item:last-child::after {align-self: flex-start;width: 50%;}#sk-container-id-7 div.sk-parallel-item:only-child::after {width: 0;}#sk-container-id-7 div.sk-dashed-wrapped {border: 1px dashed gray;margin: 0 0.4em 0.5em 0.4em;box-sizing: border-box;padding-bottom: 0.4em;background-color: white;}#sk-container-id-7 div.sk-label label {font-family: monospace;font-weight: bold;display: inline-block;line-height: 1.2em;}#sk-container-id-7 div.sk-label-container {text-align: center;}#sk-container-id-7 div.sk-container {/* jupyter's `normalize.less` sets `[hidden] { display: none; }` but bootstrap.min.css set `[hidden] { display: none !important; }` so we also need the `!important` here to be able to override the default hidden behavior on the sphinx rendered scikit-learn.org. See: https://github.com/scikit-learn/scikit-learn/issues/21755 */display: inline-block !important;position: relative;}#sk-container-id-7 div.sk-text-repr-fallback {display: none;}</style><div id=\"sk-container-id-7\" class=\"sk-top-container\"><div class=\"sk-text-repr-fallback\"><pre>GridSearchCV(cv=3, estimator=KNeighborsClassifier(),\n",
       "             param_grid={&#x27;n_neighbors&#x27;: [7, 9, 11, 13, 15], &#x27;p&#x27;: [1, 2, 3],\n",
       "                         &#x27;weights&#x27;: [&#x27;uniform&#x27;, &#x27;distance&#x27;]})</pre><b>In a Jupyter environment, please rerun this cell to show the HTML representation or trust the notebook. <br />On GitHub, the HTML representation is unable to render, please try loading this page with nbviewer.org.</b></div><div class=\"sk-container\" hidden><div class=\"sk-item sk-dashed-wrapped\"><div class=\"sk-label-container\"><div class=\"sk-label sk-toggleable\"><input class=\"sk-toggleable__control sk-hidden--visually\" id=\"sk-estimator-id-19\" type=\"checkbox\" ><label for=\"sk-estimator-id-19\" class=\"sk-toggleable__label sk-toggleable__label-arrow\">GridSearchCV</label><div class=\"sk-toggleable__content\"><pre>GridSearchCV(cv=3, estimator=KNeighborsClassifier(),\n",
       "             param_grid={&#x27;n_neighbors&#x27;: [7, 9, 11, 13, 15], &#x27;p&#x27;: [1, 2, 3],\n",
       "                         &#x27;weights&#x27;: [&#x27;uniform&#x27;, &#x27;distance&#x27;]})</pre></div></div></div><div class=\"sk-parallel\"><div class=\"sk-parallel-item\"><div class=\"sk-item\"><div class=\"sk-label-container\"><div class=\"sk-label sk-toggleable\"><input class=\"sk-toggleable__control sk-hidden--visually\" id=\"sk-estimator-id-20\" type=\"checkbox\" ><label for=\"sk-estimator-id-20\" class=\"sk-toggleable__label sk-toggleable__label-arrow\">estimator: KNeighborsClassifier</label><div class=\"sk-toggleable__content\"><pre>KNeighborsClassifier()</pre></div></div></div><div class=\"sk-serial\"><div class=\"sk-item\"><div class=\"sk-estimator sk-toggleable\"><input class=\"sk-toggleable__control sk-hidden--visually\" id=\"sk-estimator-id-21\" type=\"checkbox\" ><label for=\"sk-estimator-id-21\" class=\"sk-toggleable__label sk-toggleable__label-arrow\">KNeighborsClassifier</label><div class=\"sk-toggleable__content\"><pre>KNeighborsClassifier()</pre></div></div></div></div></div></div></div></div></div></div>"
      ],
      "text/plain": [
       "GridSearchCV(cv=3, estimator=KNeighborsClassifier(),\n",
       "             param_grid={'n_neighbors': [7, 9, 11, 13, 15], 'p': [1, 2, 3],\n",
       "                         'weights': ['uniform', 'distance']})"
      ]
     },
     "execution_count": 67,
     "metadata": {},
     "output_type": "execute_result"
    }
   ],
   "source": [
    "knn = KNeighborsClassifier()\n",
    "\n",
    "param_grid = {\n",
    "    'n_neighbors': [7, 9, 11, 13, 15],\n",
    "    'weights': ['uniform', 'distance'],\n",
    "    'p': [1, 2, 3]\n",
    "}\n",
    "\n",
    "grid_search = GridSearchCV(knn, param_grid, cv=3)\n",
    "grid_search.fit(X_train, y_train)"
   ]
  },
  {
   "cell_type": "code",
   "execution_count": 68,
   "id": "cd757da0",
   "metadata": {},
   "outputs": [
    {
     "data": {
      "text/plain": [
       "(KNeighborsClassifier(n_neighbors=13, p=1), 0.5813823857302118)"
      ]
     },
     "execution_count": 68,
     "metadata": {},
     "output_type": "execute_result"
    }
   ],
   "source": [
    "grid_search.best_estimator_, grid_search.best_score_"
   ]
  },
  {
   "cell_type": "code",
   "execution_count": 72,
   "id": "793898cc",
   "metadata": {},
   "outputs": [
    {
     "data": {
      "text/plain": [
       "0.5947843530591775"
      ]
     },
     "execution_count": 72,
     "metadata": {},
     "output_type": "execute_result"
    }
   ],
   "source": [
    "knn_model = grid_search.best_estimator_.fit(X_train, y_train)\n",
    "train_pred = knn_model.predict(X_train)\n",
    "test_pred = knn_model.predict(X_test)\n",
    "knn_model.score(X_test, y_test)"
   ]
  },
  {
   "cell_type": "code",
   "execution_count": 73,
   "id": "ca5900cf",
   "metadata": {
    "scrolled": true
   },
   "outputs": [
    {
     "data": {
      "text/html": [
       "<style>#sk-container-id-9 {color: black;background-color: white;}#sk-container-id-9 pre{padding: 0;}#sk-container-id-9 div.sk-toggleable {background-color: white;}#sk-container-id-9 label.sk-toggleable__label {cursor: pointer;display: block;width: 100%;margin-bottom: 0;padding: 0.3em;box-sizing: border-box;text-align: center;}#sk-container-id-9 label.sk-toggleable__label-arrow:before {content: \"▸\";float: left;margin-right: 0.25em;color: #696969;}#sk-container-id-9 label.sk-toggleable__label-arrow:hover:before {color: black;}#sk-container-id-9 div.sk-estimator:hover label.sk-toggleable__label-arrow:before {color: black;}#sk-container-id-9 div.sk-toggleable__content {max-height: 0;max-width: 0;overflow: hidden;text-align: left;background-color: #f0f8ff;}#sk-container-id-9 div.sk-toggleable__content pre {margin: 0.2em;color: black;border-radius: 0.25em;background-color: #f0f8ff;}#sk-container-id-9 input.sk-toggleable__control:checked~div.sk-toggleable__content {max-height: 200px;max-width: 100%;overflow: auto;}#sk-container-id-9 input.sk-toggleable__control:checked~label.sk-toggleable__label-arrow:before {content: \"▾\";}#sk-container-id-9 div.sk-estimator input.sk-toggleable__control:checked~label.sk-toggleable__label {background-color: #d4ebff;}#sk-container-id-9 div.sk-label input.sk-toggleable__control:checked~label.sk-toggleable__label {background-color: #d4ebff;}#sk-container-id-9 input.sk-hidden--visually {border: 0;clip: rect(1px 1px 1px 1px);clip: rect(1px, 1px, 1px, 1px);height: 1px;margin: -1px;overflow: hidden;padding: 0;position: absolute;width: 1px;}#sk-container-id-9 div.sk-estimator {font-family: monospace;background-color: #f0f8ff;border: 1px dotted black;border-radius: 0.25em;box-sizing: border-box;margin-bottom: 0.5em;}#sk-container-id-9 div.sk-estimator:hover {background-color: #d4ebff;}#sk-container-id-9 div.sk-parallel-item::after {content: \"\";width: 100%;border-bottom: 1px solid gray;flex-grow: 1;}#sk-container-id-9 div.sk-label:hover label.sk-toggleable__label {background-color: #d4ebff;}#sk-container-id-9 div.sk-serial::before {content: \"\";position: absolute;border-left: 1px solid gray;box-sizing: border-box;top: 0;bottom: 0;left: 50%;z-index: 0;}#sk-container-id-9 div.sk-serial {display: flex;flex-direction: column;align-items: center;background-color: white;padding-right: 0.2em;padding-left: 0.2em;position: relative;}#sk-container-id-9 div.sk-item {position: relative;z-index: 1;}#sk-container-id-9 div.sk-parallel {display: flex;align-items: stretch;justify-content: center;background-color: white;position: relative;}#sk-container-id-9 div.sk-item::before, #sk-container-id-9 div.sk-parallel-item::before {content: \"\";position: absolute;border-left: 1px solid gray;box-sizing: border-box;top: 0;bottom: 0;left: 50%;z-index: -1;}#sk-container-id-9 div.sk-parallel-item {display: flex;flex-direction: column;z-index: 1;position: relative;background-color: white;}#sk-container-id-9 div.sk-parallel-item:first-child::after {align-self: flex-end;width: 50%;}#sk-container-id-9 div.sk-parallel-item:last-child::after {align-self: flex-start;width: 50%;}#sk-container-id-9 div.sk-parallel-item:only-child::after {width: 0;}#sk-container-id-9 div.sk-dashed-wrapped {border: 1px dashed gray;margin: 0 0.4em 0.5em 0.4em;box-sizing: border-box;padding-bottom: 0.4em;background-color: white;}#sk-container-id-9 div.sk-label label {font-family: monospace;font-weight: bold;display: inline-block;line-height: 1.2em;}#sk-container-id-9 div.sk-label-container {text-align: center;}#sk-container-id-9 div.sk-container {/* jupyter's `normalize.less` sets `[hidden] { display: none; }` but bootstrap.min.css set `[hidden] { display: none !important; }` so we also need the `!important` here to be able to override the default hidden behavior on the sphinx rendered scikit-learn.org. See: https://github.com/scikit-learn/scikit-learn/issues/21755 */display: inline-block !important;position: relative;}#sk-container-id-9 div.sk-text-repr-fallback {display: none;}</style><div id=\"sk-container-id-9\" class=\"sk-top-container\"><div class=\"sk-text-repr-fallback\"><pre>GridSearchCV(cv=3, estimator=RandomForestClassifier(random_state=99),\n",
       "             param_grid={&#x27;criterion&#x27;: [&#x27;gini&#x27;, &#x27;entropy&#x27;, &#x27;log_loss&#x27;],\n",
       "                         &#x27;max_depth&#x27;: [None, 5, 10],\n",
       "                         &#x27;max_features&#x27;: [&#x27;auto&#x27;, &#x27;sqrt&#x27;],\n",
       "                         &#x27;min_samples_leaf&#x27;: [1, 2, 4],\n",
       "                         &#x27;min_samples_split&#x27;: [2, 5, 10],\n",
       "                         &#x27;n_estimators&#x27;: [100, 200, 300]})</pre><b>In a Jupyter environment, please rerun this cell to show the HTML representation or trust the notebook. <br />On GitHub, the HTML representation is unable to render, please try loading this page with nbviewer.org.</b></div><div class=\"sk-container\" hidden><div class=\"sk-item sk-dashed-wrapped\"><div class=\"sk-label-container\"><div class=\"sk-label sk-toggleable\"><input class=\"sk-toggleable__control sk-hidden--visually\" id=\"sk-estimator-id-23\" type=\"checkbox\" ><label for=\"sk-estimator-id-23\" class=\"sk-toggleable__label sk-toggleable__label-arrow\">GridSearchCV</label><div class=\"sk-toggleable__content\"><pre>GridSearchCV(cv=3, estimator=RandomForestClassifier(random_state=99),\n",
       "             param_grid={&#x27;criterion&#x27;: [&#x27;gini&#x27;, &#x27;entropy&#x27;, &#x27;log_loss&#x27;],\n",
       "                         &#x27;max_depth&#x27;: [None, 5, 10],\n",
       "                         &#x27;max_features&#x27;: [&#x27;auto&#x27;, &#x27;sqrt&#x27;],\n",
       "                         &#x27;min_samples_leaf&#x27;: [1, 2, 4],\n",
       "                         &#x27;min_samples_split&#x27;: [2, 5, 10],\n",
       "                         &#x27;n_estimators&#x27;: [100, 200, 300]})</pre></div></div></div><div class=\"sk-parallel\"><div class=\"sk-parallel-item\"><div class=\"sk-item\"><div class=\"sk-label-container\"><div class=\"sk-label sk-toggleable\"><input class=\"sk-toggleable__control sk-hidden--visually\" id=\"sk-estimator-id-24\" type=\"checkbox\" ><label for=\"sk-estimator-id-24\" class=\"sk-toggleable__label sk-toggleable__label-arrow\">estimator: RandomForestClassifier</label><div class=\"sk-toggleable__content\"><pre>RandomForestClassifier(random_state=99)</pre></div></div></div><div class=\"sk-serial\"><div class=\"sk-item\"><div class=\"sk-estimator sk-toggleable\"><input class=\"sk-toggleable__control sk-hidden--visually\" id=\"sk-estimator-id-25\" type=\"checkbox\" ><label for=\"sk-estimator-id-25\" class=\"sk-toggleable__label sk-toggleable__label-arrow\">RandomForestClassifier</label><div class=\"sk-toggleable__content\"><pre>RandomForestClassifier(random_state=99)</pre></div></div></div></div></div></div></div></div></div></div>"
      ],
      "text/plain": [
       "GridSearchCV(cv=3, estimator=RandomForestClassifier(random_state=99),\n",
       "             param_grid={'criterion': ['gini', 'entropy', 'log_loss'],\n",
       "                         'max_depth': [None, 5, 10],\n",
       "                         'max_features': ['auto', 'sqrt'],\n",
       "                         'min_samples_leaf': [1, 2, 4],\n",
       "                         'min_samples_split': [2, 5, 10],\n",
       "                         'n_estimators': [100, 200, 300]})"
      ]
     },
     "execution_count": 73,
     "metadata": {},
     "output_type": "execute_result"
    }
   ],
   "source": [
    "rfc = RandomForestClassifier(random_state=seed)\n",
    "\n",
    "param_grid = {\n",
    "    'criterion': ['gini', 'entropy', 'log_loss'],\n",
    "    'n_estimators': [100, 200, 300],\n",
    "    'max_depth': [None, 5, 10],\n",
    "    'min_samples_split': [2, 5, 10],\n",
    "    'min_samples_leaf': [1, 2, 4],\n",
    "    'max_features': ['auto', 'sqrt']\n",
    "}\n",
    "\n",
    "grid_search = GridSearchCV(rfc, param_grid, cv=3)\n",
    "grid_search.fit(X_train, y_train)"
   ]
  },
  {
   "cell_type": "code",
   "execution_count": 74,
   "id": "c255e716",
   "metadata": {},
   "outputs": [
    {
     "data": {
      "text/plain": [
       "(RandomForestClassifier(max_depth=5, max_features='auto', min_samples_leaf=4,\n",
       "                        n_estimators=200, random_state=99),\n",
       " 0.6178372352285396)"
      ]
     },
     "execution_count": 74,
     "metadata": {},
     "output_type": "execute_result"
    }
   ],
   "source": [
    "grid_search.best_estimator_, grid_search.best_score_"
   ]
  },
  {
   "cell_type": "code",
   "execution_count": 75,
   "id": "47500d1b",
   "metadata": {},
   "outputs": [
    {
     "data": {
      "text/plain": [
       "0.6158475426278837"
      ]
     },
     "execution_count": 75,
     "metadata": {},
     "output_type": "execute_result"
    }
   ],
   "source": [
    "rfc_model = grid_search.best_estimator_.fit(X_train, y_train)\n",
    "train_pred = rfc_model.predict(X_train)\n",
    "test_pred = rfc_model.predict(X_test)\n",
    "rfc_model.score(X_test, y_test)"
   ]
  },
  {
   "cell_type": "code",
   "execution_count": null,
   "id": "0dfb3803",
   "metadata": {},
   "outputs": [],
   "source": []
  },
  {
   "cell_type": "markdown",
   "id": "31f3d27a",
   "metadata": {},
   "source": [
    "### Naive Bayes"
   ]
  },
  {
   "cell_type": "code",
   "execution_count": 78,
   "id": "92c44140",
   "metadata": {},
   "outputs": [
    {
     "data": {
      "text/plain": [
       "0.6121698428619191"
      ]
     },
     "execution_count": 78,
     "metadata": {},
     "output_type": "execute_result"
    }
   ],
   "source": [
    "gnb = GaussianNB()\n",
    "gnb_model = gnb.fit(X_train, y_train)\n",
    "train_pred = gnb_model.predict(X_train)\n",
    "test_pred = gnb_model.predict(X_test)\n",
    "gnb_model.score(X_test, y_test)"
   ]
  },
  {
   "cell_type": "markdown",
   "id": "e389b8ee",
   "metadata": {},
   "source": [
    "### SVC"
   ]
  },
  {
   "cell_type": "code",
   "execution_count": 79,
   "id": "45c63693",
   "metadata": {},
   "outputs": [
    {
     "data": {
      "text/html": [
       "<style>#sk-container-id-10 {color: black;background-color: white;}#sk-container-id-10 pre{padding: 0;}#sk-container-id-10 div.sk-toggleable {background-color: white;}#sk-container-id-10 label.sk-toggleable__label {cursor: pointer;display: block;width: 100%;margin-bottom: 0;padding: 0.3em;box-sizing: border-box;text-align: center;}#sk-container-id-10 label.sk-toggleable__label-arrow:before {content: \"▸\";float: left;margin-right: 0.25em;color: #696969;}#sk-container-id-10 label.sk-toggleable__label-arrow:hover:before {color: black;}#sk-container-id-10 div.sk-estimator:hover label.sk-toggleable__label-arrow:before {color: black;}#sk-container-id-10 div.sk-toggleable__content {max-height: 0;max-width: 0;overflow: hidden;text-align: left;background-color: #f0f8ff;}#sk-container-id-10 div.sk-toggleable__content pre {margin: 0.2em;color: black;border-radius: 0.25em;background-color: #f0f8ff;}#sk-container-id-10 input.sk-toggleable__control:checked~div.sk-toggleable__content {max-height: 200px;max-width: 100%;overflow: auto;}#sk-container-id-10 input.sk-toggleable__control:checked~label.sk-toggleable__label-arrow:before {content: \"▾\";}#sk-container-id-10 div.sk-estimator input.sk-toggleable__control:checked~label.sk-toggleable__label {background-color: #d4ebff;}#sk-container-id-10 div.sk-label input.sk-toggleable__control:checked~label.sk-toggleable__label {background-color: #d4ebff;}#sk-container-id-10 input.sk-hidden--visually {border: 0;clip: rect(1px 1px 1px 1px);clip: rect(1px, 1px, 1px, 1px);height: 1px;margin: -1px;overflow: hidden;padding: 0;position: absolute;width: 1px;}#sk-container-id-10 div.sk-estimator {font-family: monospace;background-color: #f0f8ff;border: 1px dotted black;border-radius: 0.25em;box-sizing: border-box;margin-bottom: 0.5em;}#sk-container-id-10 div.sk-estimator:hover {background-color: #d4ebff;}#sk-container-id-10 div.sk-parallel-item::after {content: \"\";width: 100%;border-bottom: 1px solid gray;flex-grow: 1;}#sk-container-id-10 div.sk-label:hover label.sk-toggleable__label {background-color: #d4ebff;}#sk-container-id-10 div.sk-serial::before {content: \"\";position: absolute;border-left: 1px solid gray;box-sizing: border-box;top: 0;bottom: 0;left: 50%;z-index: 0;}#sk-container-id-10 div.sk-serial {display: flex;flex-direction: column;align-items: center;background-color: white;padding-right: 0.2em;padding-left: 0.2em;position: relative;}#sk-container-id-10 div.sk-item {position: relative;z-index: 1;}#sk-container-id-10 div.sk-parallel {display: flex;align-items: stretch;justify-content: center;background-color: white;position: relative;}#sk-container-id-10 div.sk-item::before, #sk-container-id-10 div.sk-parallel-item::before {content: \"\";position: absolute;border-left: 1px solid gray;box-sizing: border-box;top: 0;bottom: 0;left: 50%;z-index: -1;}#sk-container-id-10 div.sk-parallel-item {display: flex;flex-direction: column;z-index: 1;position: relative;background-color: white;}#sk-container-id-10 div.sk-parallel-item:first-child::after {align-self: flex-end;width: 50%;}#sk-container-id-10 div.sk-parallel-item:last-child::after {align-self: flex-start;width: 50%;}#sk-container-id-10 div.sk-parallel-item:only-child::after {width: 0;}#sk-container-id-10 div.sk-dashed-wrapped {border: 1px dashed gray;margin: 0 0.4em 0.5em 0.4em;box-sizing: border-box;padding-bottom: 0.4em;background-color: white;}#sk-container-id-10 div.sk-label label {font-family: monospace;font-weight: bold;display: inline-block;line-height: 1.2em;}#sk-container-id-10 div.sk-label-container {text-align: center;}#sk-container-id-10 div.sk-container {/* jupyter's `normalize.less` sets `[hidden] { display: none; }` but bootstrap.min.css set `[hidden] { display: none !important; }` so we also need the `!important` here to be able to override the default hidden behavior on the sphinx rendered scikit-learn.org. See: https://github.com/scikit-learn/scikit-learn/issues/21755 */display: inline-block !important;position: relative;}#sk-container-id-10 div.sk-text-repr-fallback {display: none;}</style><div id=\"sk-container-id-10\" class=\"sk-top-container\"><div class=\"sk-text-repr-fallback\"><pre>GridSearchCV(cv=3, estimator=SVC(random_state=99),\n",
       "             param_grid={&#x27;C&#x27;: [0.1, 1, 10], &#x27;gamma&#x27;: [&#x27;scale&#x27;, &#x27;auto&#x27;],\n",
       "                         &#x27;kernel&#x27;: [&#x27;linear&#x27;, &#x27;rbf&#x27;]})</pre><b>In a Jupyter environment, please rerun this cell to show the HTML representation or trust the notebook. <br />On GitHub, the HTML representation is unable to render, please try loading this page with nbviewer.org.</b></div><div class=\"sk-container\" hidden><div class=\"sk-item sk-dashed-wrapped\"><div class=\"sk-label-container\"><div class=\"sk-label sk-toggleable\"><input class=\"sk-toggleable__control sk-hidden--visually\" id=\"sk-estimator-id-26\" type=\"checkbox\" ><label for=\"sk-estimator-id-26\" class=\"sk-toggleable__label sk-toggleable__label-arrow\">GridSearchCV</label><div class=\"sk-toggleable__content\"><pre>GridSearchCV(cv=3, estimator=SVC(random_state=99),\n",
       "             param_grid={&#x27;C&#x27;: [0.1, 1, 10], &#x27;gamma&#x27;: [&#x27;scale&#x27;, &#x27;auto&#x27;],\n",
       "                         &#x27;kernel&#x27;: [&#x27;linear&#x27;, &#x27;rbf&#x27;]})</pre></div></div></div><div class=\"sk-parallel\"><div class=\"sk-parallel-item\"><div class=\"sk-item\"><div class=\"sk-label-container\"><div class=\"sk-label sk-toggleable\"><input class=\"sk-toggleable__control sk-hidden--visually\" id=\"sk-estimator-id-27\" type=\"checkbox\" ><label for=\"sk-estimator-id-27\" class=\"sk-toggleable__label sk-toggleable__label-arrow\">estimator: SVC</label><div class=\"sk-toggleable__content\"><pre>SVC(random_state=99)</pre></div></div></div><div class=\"sk-serial\"><div class=\"sk-item\"><div class=\"sk-estimator sk-toggleable\"><input class=\"sk-toggleable__control sk-hidden--visually\" id=\"sk-estimator-id-28\" type=\"checkbox\" ><label for=\"sk-estimator-id-28\" class=\"sk-toggleable__label sk-toggleable__label-arrow\">SVC</label><div class=\"sk-toggleable__content\"><pre>SVC(random_state=99)</pre></div></div></div></div></div></div></div></div></div></div>"
      ],
      "text/plain": [
       "GridSearchCV(cv=3, estimator=SVC(random_state=99),\n",
       "             param_grid={'C': [0.1, 1, 10], 'gamma': ['scale', 'auto'],\n",
       "                         'kernel': ['linear', 'rbf']})"
      ]
     },
     "execution_count": 79,
     "metadata": {},
     "output_type": "execute_result"
    }
   ],
   "source": [
    "svc = SVC(random_state=seed)\n",
    "\n",
    "param_grid = {\n",
    "    'C': [0.1, 1, 10],\n",
    "    'kernel': ['linear', 'rbf'],\n",
    "    'gamma': ['scale', 'auto']\n",
    "}\n",
    "\n",
    "grid_search = GridSearchCV(svc, param_grid, cv=3)\n",
    "grid_search.fit(X_train, y_train)"
   ]
  },
  {
   "cell_type": "code",
   "execution_count": 80,
   "id": "64379864",
   "metadata": {},
   "outputs": [
    {
     "data": {
      "text/plain": [
       "(SVC(C=1, random_state=99), 0.6189520624303233)"
      ]
     },
     "execution_count": 80,
     "metadata": {},
     "output_type": "execute_result"
    }
   ],
   "source": [
    "grid_search.best_estimator_, grid_search.best_score_"
   ]
  },
  {
   "cell_type": "code",
   "execution_count": 81,
   "id": "7b890eec",
   "metadata": {},
   "outputs": [
    {
     "data": {
      "text/plain": [
       "0.6074891340688733"
      ]
     },
     "execution_count": 81,
     "metadata": {},
     "output_type": "execute_result"
    }
   ],
   "source": [
    "svc_model = grid_search.best_estimator_.fit(X_train, y_train)\n",
    "train_pred = svc_model.predict(X_train)\n",
    "test_pred = svc_model.predict(X_test)\n",
    "svc_model.score(X_test, y_test)"
   ]
  },
  {
   "cell_type": "code",
   "execution_count": null,
   "id": "475a72e5",
   "metadata": {},
   "outputs": [],
   "source": []
  }
 ],
 "metadata": {
  "kernelspec": {
   "display_name": "nba-env",
   "language": "python",
   "name": "nba-env"
  },
  "language_info": {
   "codemirror_mode": {
    "name": "ipython",
    "version": 3
   },
   "file_extension": ".py",
   "mimetype": "text/x-python",
   "name": "python",
   "nbconvert_exporter": "python",
   "pygments_lexer": "ipython3",
   "version": "3.11.3"
  }
 },
 "nbformat": 4,
 "nbformat_minor": 5
}
