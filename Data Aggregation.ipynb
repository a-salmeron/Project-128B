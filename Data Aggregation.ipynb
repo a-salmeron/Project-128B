{
 "cells": [
  {
   "cell_type": "markdown",
   "id": "6283ecbd",
   "metadata": {},
   "source": [
    "# agg all the data versions here."
   ]
  },
  {
   "cell_type": "code",
   "execution_count": null,
   "id": "25707908",
   "metadata": {},
   "outputs": [],
   "source": [
    "import numpy as np\n",
    "import pandas as pd\n",
    "import sqlite3\n",
    "\n",
    "import warnings\n",
    "warnings.filterwarnings(\"ignore\")\n",
    "\n",
    "pd.set_option('display.max_columns', None)"
   ]
  },
  {
   "cell_type": "code",
   "execution_count": null,
   "id": "d4a2454d",
   "metadata": {},
   "outputs": [],
   "source": [
    "conn = sqlite3.connect('data/NBA-Boxscore-Database.sqlite')"
   ]
  },
  {
   "cell_type": "code",
   "execution_count": null,
   "id": "7839d1f7",
   "metadata": {},
   "outputs": [],
   "source": [
    "query = 'SELECT * from game_info'\n",
    "game_info = pd.read_sql(query, con=conn)\n",
    "game_info"
   ]
  },
  {
   "cell_type": "code",
   "execution_count": null,
   "id": "4f6a9715",
   "metadata": {},
   "outputs": [],
   "source": [
    "query = 'SELECT * from team_stats'\n",
    "team_stats = pd.read_sql(query, con=conn)\n",
    "team_stats"
   ]
  },
  {
   "cell_type": "code",
   "execution_count": null,
   "id": "c5f05b0a",
   "metadata": {},
   "outputs": [],
   "source": [
    "query = 'SELECT * from player_stats'\n",
    "player_stats = pd.read_sql(query, con=conn)\n",
    "player_stats"
   ]
  },
  {
   "cell_type": "code",
   "execution_count": null,
   "id": "10150ed0",
   "metadata": {},
   "outputs": [],
   "source": [
    "game_ids = list(game_info['game_id'].unique())"
   ]
  },
  {
   "cell_type": "markdown",
   "id": "9376168f",
   "metadata": {},
   "source": [
    "## Four Factor Team Aggregation"
   ]
  },
  {
   "cell_type": "code",
   "execution_count": null,
   "id": "cedb6514",
   "metadata": {},
   "outputs": [],
   "source": [
    "def create_gid_query(game_id, date, lim, team='away'):\n",
    "    away_gid_query = f'''\n",
    "    SELECT gi.game_id\n",
    "    FROM game_info gi\n",
    "    WHERE (gi.away_team = (SELECT away_team FROM game_info WHERE game_id = '{game_id}')\n",
    "            AND gi.date < '{date}')\n",
    "       OR (gi.home_team = (SELECT away_team FROM game_info WHERE game_id = '{game_id}')\n",
    "            AND gi.date < '{date}')\n",
    "    ORDER BY gi.date DESC\n",
    "    LIMIT {lim};\n",
    "    '''\n",
    "    \n",
    "    home_gid_query = f'''\n",
    "    SELECT gi.game_id\n",
    "    FROM game_info gi\n",
    "    WHERE (gi.away_team = (SELECT home_team FROM game_info WHERE game_id = '{game_id}')\n",
    "            AND gi.date < '{date}')\n",
    "       OR (gi.home_team = (SELECT home_team FROM game_info WHERE game_id = '{game_id}')\n",
    "            AND gi.date < '{date}')\n",
    "    ORDER BY gi.date DESC\n",
    "    LIMIT {lim};\n",
    "    '''\n",
    "    \n",
    "    if team == 'away':\n",
    "        return away_gid_query\n",
    "    elif team == 'home':\n",
    "        return home_gid_query"
   ]
  },
  {
   "cell_type": "code",
   "execution_count": null,
   "id": "17535b6f",
   "metadata": {},
   "outputs": [],
   "source": [
    "def create_4F_df(query, conn, team_stats, team='away'):\n",
    "    \n",
    "    gid_query_df = pd.read_sql(query, con=conn)\n",
    "    stat_df = gid_query_df.merge(team_stats[['game_id', 'team', 'FG', 'FGA', 'FT', 'FTA', '3P', 'ORBp', 'TOV']])\n",
    "    \n",
    "    if team == 'away':\n",
    "        stat_df = stat_df[stat_df['team'] == away_team].reset_index(drop=True)\n",
    "    elif team =='home':\n",
    "        stat_df = stat_df[stat_df['team'] == home_team].reset_index(drop=True)\n",
    "    \n",
    "    eFGp = (stat_df['FG'].mean() + (0.5 * stat_df['3P'].mean())) / stat_df['FGA'].mean()\n",
    "    FTr = stat_df['FT'].mean() / stat_df['FGA'].mean()\n",
    "    ORBp = stat_df['ORBp'].mean()*0.01\n",
    "    TOVp = stat_df['TOV'].mean() / (stat_df['FGA'].mean() + (0.44*stat_df['FTA'].mean()) + stat_df['TOV'].mean())\n",
    "    \n",
    "    if team == 'away':\n",
    "        comp_df = pd.DataFrame(data = [[eFGp, FTr, ORBp, TOVp]], columns=['a_eFGp', 'a_FTr', 'a_ORBp', 'a_TOVp'])\n",
    "    elif team =='home':\n",
    "        comp_df = pd.DataFrame(data = [[eFGp, FTr, ORBp, TOVp]], columns=['h_eFGp', 'h_FTr', 'h_ORBp', 'h_TOVp'])\n",
    "    \n",
    "    return comp_df"
   ]
  },
  {
   "cell_type": "code",
   "execution_count": null,
   "id": "f3d671b5",
   "metadata": {},
   "outputs": [],
   "source": [
    "four_factor_columns = list(game_info.columns) + ['a_eFGp', 'a_FTr', 'a_ORBp', 'a_TOVp', 'h_eFGp', 'h_FTr', 'h_ORBp', 'h_TOVp']\n",
    "team_factor_10_df = pd.DataFrame(columns=four_factor_columns)\n",
    "\n",
    "for game_id in game_ids:\n",
    "\n",
    "    date = game_info[game_info['game_id'] == game_id]['date'].values[0]\n",
    "    away_team = game_info[game_info['game_id'] == game_id]['away_team'].values[0]\n",
    "    home_team = game_info[game_info['game_id'] == game_id]['home_team'].values[0]\n",
    "\n",
    "    away_gid_query = create_gid_query(game_id = game_id, date=date, team='away')\n",
    "    away_stats = create_4F_df(query=away_gid_query, conn=conn, team_stats=team_stats, team='away')\n",
    "\n",
    "    home_gid_query = create_gid_query(game_id=game_id, date=date, team='home')\n",
    "    home_stats = create_4F_df(query=home_gid_query, conn=conn, team_stats=team_stats, team='home')\n",
    "    \n",
    "    agg_stats = pd.concat([away_stats, home_stats], axis=1)\n",
    "    gid_info = game_info[game_info['game_id'] == game_id].reset_index(drop=True)\n",
    "    \n",
    "    stats_4F = pd.concat([gid_info, agg_stats], axis=1)\n",
    "    team_factor_10_df = four_factor_df.append(stats_4F, ignore_index=True)"
   ]
  },
  {
   "cell_type": "code",
   "execution_count": null,
   "id": "63b3acb1",
   "metadata": {},
   "outputs": [],
   "source": [
    "team_factor_10_df"
   ]
  },
  {
   "cell_type": "code",
   "execution_count": null,
   "id": "44633169",
   "metadata": {},
   "outputs": [],
   "source": [
    "team_factor_10_df.to_csv('team_factor_10.csv')"
   ]
  },
  {
   "cell_type": "code",
   "execution_count": null,
   "id": "1a11ad95",
   "metadata": {},
   "outputs": [],
   "source": [
    "team_factor_20_df = pd.DataFrame(columns=four_factor_columns)\n",
    "\n",
    "for game_id in game_ids:\n",
    "\n",
    "    date = game_info[game_info['game_id'] == game_id]['date'].values[0]\n",
    "    away_team = game_info[game_info['game_id'] == game_id]['away_team'].values[0]\n",
    "    home_team = game_info[game_info['game_id'] == game_id]['home_team'].values[0]\n",
    "\n",
    "    away_gid_query = create_gid_query(game_id = game_id, date=date, lim=20, team='away')\n",
    "    away_stats = create_4F_df(query=away_gid_query, conn=conn, team_stats=team_stats, team='away')\n",
    "\n",
    "    home_gid_query = create_gid_query(game_id=game_id, date=date, lim=20, team='home')\n",
    "    home_stats = create_4F_df(query=home_gid_query, conn=conn, team_stats=team_stats, team='home')\n",
    "    \n",
    "    agg_stats = pd.concat([away_stats, home_stats], axis=1)\n",
    "    gid_info = game_info[game_info['game_id'] == game_id].reset_index(drop=True)\n",
    "    \n",
    "    stats_4F = pd.concat([gid_info, agg_stats], axis=1)\n",
    "    team_factor_20_df = four_factor_df.append(stats_4F, ignore_index=True)"
   ]
  },
  {
   "cell_type": "code",
   "execution_count": null,
   "id": "bfcbb7c7",
   "metadata": {},
   "outputs": [],
   "source": [
    "team_factor_20_df"
   ]
  },
  {
   "cell_type": "code",
   "execution_count": null,
   "id": "e9abfc66",
   "metadata": {},
   "outputs": [],
   "source": [
    "team_factor_20_df.to_csv('team_factor_20.csv')"
   ]
  },
  {
   "cell_type": "code",
   "execution_count": null,
   "id": "357108da",
   "metadata": {},
   "outputs": [],
   "source": [
    "team_factor_30_df = pd.DataFrame(columns=four_factor_columns)\n",
    "\n",
    "for game_id in game_ids:\n",
    "\n",
    "    date = game_info[game_info['game_id'] == game_id]['date'].values[0]\n",
    "    away_team = game_info[game_info['game_id'] == game_id]['away_team'].values[0]\n",
    "    home_team = game_info[game_info['game_id'] == game_id]['home_team'].values[0]\n",
    "\n",
    "    away_gid_query = create_gid_query(game_id = game_id, date=date, lim=30, team='away')\n",
    "    away_stats = create_4F_df(query=away_gid_query, conn=conn, team_stats=team_stats, team='away')\n",
    "\n",
    "    home_gid_query = create_gid_query(game_id=game_id, date=date, lim=30, team='home')\n",
    "    home_stats = create_4F_df(query=home_gid_query, conn=conn, team_stats=team_stats, team='home')\n",
    "    \n",
    "    agg_stats = pd.concat([away_stats, home_stats], axis=1)\n",
    "    gid_info = game_info[game_info['game_id'] == game_id].reset_index(drop=True)\n",
    "    \n",
    "    stats_4F = pd.concat([gid_info, agg_stats], axis=1)\n",
    "    team_factor_30_df = four_factor_df.append(stats_4F, ignore_index=True)"
   ]
  },
  {
   "cell_type": "code",
   "execution_count": null,
   "id": "cc4a8081",
   "metadata": {},
   "outputs": [],
   "source": [
    "team_factor_30_df"
   ]
  },
  {
   "cell_type": "code",
   "execution_count": null,
   "id": "75180376",
   "metadata": {},
   "outputs": [],
   "source": [
    "team_factor_30_df.to_csv('team_factor_30.csv')"
   ]
  },
  {
   "cell_type": "markdown",
   "id": "cd06adc6",
   "metadata": {},
   "source": [
    "## Player Four Factor Aggregation"
   ]
  },
  {
   "cell_type": "code",
   "execution_count": null,
   "id": "ede10da9",
   "metadata": {},
   "outputs": [],
   "source": [
    "id_ref = player_stats[['player', 'team', 'game_id']]\n",
    "four_factor_columns = ['game_id', 'a_eFGp', 'a_FTr', 'a_ORBp', 'a_TOVp', 'h_eFGp', 'h_FTr', 'h_ORBp', 'h_TOVp']"
   ]
  },
  {
   "cell_type": "code",
   "execution_count": null,
   "id": "a3552ef5",
   "metadata": {},
   "outputs": [],
   "source": [
    "player_factor_10 = pd.DataFrame(columns=four_factor_columns)\n",
    "\n",
    "for game_id in game_ids:\n",
    "    \n",
    "    away_team = game_info['away_team'][game_info['game_id'] == game_id]\n",
    "    home_team = game_info['home_team'][game_info['game_id'] == game_id]\n",
    "\n",
    "    query = f'''select player, SUM(FG) as FG, SUM(FGA) as FGA, SUM(FT) as FT, SUM(FTA) as FTA, SUM(\"3P\") as P3, SUM(ORBp) as ORBp, SUM(TOV) as TOV\n",
    "                from ( select ROW_NUMBER() OVER (PARTITION BY d.player order by d.date desc ) r, d.*  \n",
    "                    from ( select game_id, player from player_stats ps where ps.game_id={game_id} ) gs\n",
    "                    inner join ( select b.date,  a.* from player_stats a inner join game_info b on a.game_id = b.game_id ) d\n",
    "                        on gs.player=d.player\n",
    "                ) k\n",
    "                where (k.r BETWEEN 2 and 11)\n",
    "                group by player;'''\n",
    "\n",
    "    stat_df = pd.read_sql(query, con=conn)\n",
    "    player_agg_stats = pd.merge(stat_df, id_ref[['player', 'team']][id_ref['game_id'] == game_id], on=['player'])\n",
    "    team_avg_stats = player_agg_stats.groupby('team').sum()/10\n",
    "    \n",
    "    a_eFGp = float( ( team_avg_stats.loc[away_team]['FG'] + (0.5*team_avg_stats.loc[away_team]['P3']) ) / team_avg_stats.loc[away_team]['FGA'] )\n",
    "    a_FTr = float( team_avg_stats.loc[away_team]['FT'] / team_avg_stats.loc[away_team]['FGA'] )\n",
    "    a_ORBp = float( team_avg_stats.loc[away_team]['ORBp']*0.01 )\n",
    "    a_TOVp = float( team_avg_stats.loc[away_team]['TOV'] / ( team_avg_stats.loc[away_team]['FGA'] + 0.44*team_avg_stats.loc[away_team]['FTA'] + team_avg_stats.loc[away_team]['TOV'] ) )\n",
    "    \n",
    "    h_eFGp = float( ( team_avg_stats.loc[home_team]['FG'] + (0.5*team_avg_stats.loc[home_team]['P3']) ) / team_avg_stats.loc[home_team]['FGA'] )\n",
    "    h_FTr = float( team_avg_stats.loc[home_team]['FT'] / team_avg_stats.loc[home_team]['FGA'] )\n",
    "    h_ORBp = float( team_avg_stats.loc[home_team]['ORBp']*0.01 )\n",
    "    h_TOVp = float( team_avg_stats.loc[home_team]['TOV'] / ( team_avg_stats.loc[home_team]['FGA'] + 0.44*team_avg_stats.loc[home_team]['FTA'] + team_avg_stats.loc[home_team]['TOV'] ) )\n",
    "\n",
    "    stats = [game_id, a_eFGp, a_FTr, a_ORBp, a_TOVp, h_eFGp, h_FTr, h_ORBp, h_TOVp]\n",
    "    idx = player_factor_10.shape[0]\n",
    "    player_factor_10.loc[idx] = stats\n",
    "\n",
    "player_factor_10 = game_info.merge(player_factor_10, on='game_id')\n",
    "player_factor_10.to_csv('player_factor_10.csv')"
   ]
  },
  {
   "cell_type": "code",
   "execution_count": null,
   "id": "ee1e2cbf",
   "metadata": {},
   "outputs": [],
   "source": [
    "player_factor_10.tail()"
   ]
  },
  {
   "cell_type": "code",
   "execution_count": null,
   "id": "34516fdd",
   "metadata": {},
   "outputs": [],
   "source": [
    "player_factor_20 = pd.DataFrame(columns=four_factor_columns)\n",
    "\n",
    "for game_id in game_ids:\n",
    "    \n",
    "    away_team = game_info['away_team'][game_info['game_id'] == game_id]\n",
    "    home_team = game_info['home_team'][game_info['game_id'] == game_id]\n",
    "\n",
    "    query = f'''select player, SUM(FG) as FG, SUM(FGA) as FGA, SUM(FT) as FT, SUM(FTA) as FTA, SUM(\"3P\") as P3, SUM(ORBp) as ORBp, SUM(TOV) as TOV\n",
    "                from ( select ROW_NUMBER() OVER (PARTITION BY d.player order by d.date desc ) r, d.*  \n",
    "                    from ( select game_id, player from player_stats ps where ps.game_id={game_id} ) gs\n",
    "                    inner join ( select b.date,  a.* from player_stats a inner join game_info b on a.game_id = b.game_id ) d\n",
    "                        on gs.player=d.player\n",
    "                ) k\n",
    "                where (k.r BETWEEN 2 and 21)\n",
    "                group by player;'''\n",
    "\n",
    "    stat_df = pd.read_sql(query, con=conn)\n",
    "    player_agg_stats = pd.merge(stat_df, id_ref[['player', 'team']][id_ref['game_id'] == game_id], on=['player'])\n",
    "    team_avg_stats = player_agg_stats.groupby('team').sum()/20\n",
    "    \n",
    "    a_eFGp = float( ( team_avg_stats.loc[away_team]['FG'] + (0.5*team_avg_stats.loc[away_team]['P3']) ) / team_avg_stats.loc[away_team]['FGA'] )\n",
    "    a_FTr = float( team_avg_stats.loc[away_team]['FT'] / team_avg_stats.loc[away_team]['FGA'] )\n",
    "    a_ORBp = float( team_avg_stats.loc[away_team]['ORBp']*0.01 )\n",
    "    a_TOVp = float( team_avg_stats.loc[away_team]['TOV'] / ( team_avg_stats.loc[away_team]['FGA'] + 0.44*team_avg_stats.loc[away_team]['FTA'] + team_avg_stats.loc[away_team]['TOV'] ) )\n",
    "    \n",
    "    h_eFGp = float( ( team_avg_stats.loc[home_team]['FG'] + (0.5*team_avg_stats.loc[home_team]['P3']) ) / team_avg_stats.loc[home_team]['FGA'] )\n",
    "    h_FTr = float( team_avg_stats.loc[home_team]['FT'] / team_avg_stats.loc[home_team]['FGA'] )\n",
    "    h_ORBp = float( team_avg_stats.loc[home_team]['ORBp']*0.01 )\n",
    "    h_TOVp = float( team_avg_stats.loc[home_team]['TOV'] / ( team_avg_stats.loc[home_team]['FGA'] + 0.44*team_avg_stats.loc[home_team]['FTA'] + team_avg_stats.loc[home_team]['TOV'] ) )\n",
    "\n",
    "    stats = [game_id, a_eFGp, a_FTr, a_ORBp, a_TOVp, h_eFGp, h_FTr, h_ORBp, h_TOVp]\n",
    "    idx = player_factor_20.shape[0]\n",
    "    player_factor_20.loc[idx] = stats\n",
    "\n",
    "player_factor_20 = game_info.merge(player_factor_20, on='game_id')\n",
    "player_factor_20.to_csv('player_factor_20.csv')"
   ]
  },
  {
   "cell_type": "code",
   "execution_count": null,
   "id": "d542851c",
   "metadata": {},
   "outputs": [],
   "source": [
    "player_factor_20.tail()"
   ]
  },
  {
   "cell_type": "markdown",
   "id": "54af02b3",
   "metadata": {},
   "source": [
    "## Full Team Aggregation "
   ]
  },
  {
   "cell_type": "code",
   "execution_count": null,
   "id": "7604d36c",
   "metadata": {},
   "outputs": [],
   "source": [
    "def create_stats_df(query, conn, stats, team='away'):\n",
    "    \n",
    "    gid_query_df = pd.read_sql(query, con=conn)\n",
    "    stat_df = gid_query_df.merge(stats)\n",
    "    \n",
    "    if team == 'away':\n",
    "        stat_df = stat_df[stat_df['team'] == away_team].reset_index(drop=True)\n",
    "        stat_agg = stat_df.loc[:,'FG':'TOVp'].mean()\n",
    "        stat_agg = stat_agg.to_frame().T\n",
    "        columns = [f'a_{col}' for col in stat_agg.columns]\n",
    "        col_name_dict = dict(zip(stat_agg.columns, columns))\n",
    "        stat_agg.rename(columns=col_name_dict, inplace=True)\n",
    "        \n",
    "    elif team =='home':\n",
    "        stat_df = stat_df[stat_df['team'] == home_team].reset_index(drop=True)\n",
    "        stat_agg = stat_df.loc[:,'FG':'TOVp'].mean()\n",
    "        stat_agg = stat_agg.to_frame().T\n",
    "        columns = [f'h_{col}' for col in stat_agg.columns]\n",
    "        col_name_dict = dict(zip(stat_agg.columns, columns))\n",
    "        stat_agg.rename(columns=col_name_dict, inplace=True)\n",
    "    \n",
    "    return stat_agg"
   ]
  },
  {
   "cell_type": "code",
   "execution_count": null,
   "id": "aede45dc",
   "metadata": {},
   "outputs": [],
   "source": [
    "stats_df = team_stats.drop(['MP', 'PM', 'USGp', 'ORtg', 'DRtg', 'BPM'], axis=1)\n",
    "final_df_columns = list(game_info.columns) + [f'a_{column}' for column in stats_df.loc[:,'FG':'TOVp']] + [f'h_{column}' for column in stats_df.loc[:,'FG':'TOVp']]"
   ]
  },
  {
   "cell_type": "code",
   "execution_count": null,
   "id": "27629cfe",
   "metadata": {},
   "outputs": [],
   "source": [
    "team_full_10 = pd.DataFrame(columns=final_df_columns)\n",
    "\n",
    "for game_id in game_ids:\n",
    "\n",
    "    date = game_info[game_info['game_id'] == game_id]['date'].values[0]\n",
    "    away_team = game_info[game_info['game_id'] == game_id]['away_team'].values[0]\n",
    "    home_team = game_info[game_info['game_id'] == game_id]['home_team'].values[0]\n",
    "\n",
    "    away_gid_query = create_gid_query(game_id = game_id, date=date, lim=10, team='away')\n",
    "    away_stats = create_stats_df(query=away_gid_query, conn=conn, stats=stats_df, team='away')\n",
    "\n",
    "    home_gid_query = create_gid_query(game_id=game_id, date=date, lim=10, team='home')\n",
    "    home_stats = create_stats_df(query=home_gid_query, conn=conn, stats=stats_df, team='home')\n",
    "    \n",
    "    agg_stats = pd.concat([away_stats, home_stats], axis=1)\n",
    "    gid_info = game_info[game_info['game_id'] == game_id].reset_index(drop=True)\n",
    "    \n",
    "    stats = pd.concat([gid_info, agg_stats], axis=1)\n",
    "    team_full_10 = team_full_10.append(stats, ignore_index=True)\n",
    "\n",
    "team_full_10.to_csv('team_full_10.csv')"
   ]
  },
  {
   "cell_type": "code",
   "execution_count": null,
   "id": "920e8601",
   "metadata": {},
   "outputs": [],
   "source": [
    "team_full_20 = pd.DataFrame(columns=final_df_columns)\n",
    "\n",
    "for game_id in game_ids:\n",
    "\n",
    "    date = game_info[game_info['game_id'] == game_id]['date'].values[0]\n",
    "    away_team = game_info[game_info['game_id'] == game_id]['away_team'].values[0]\n",
    "    home_team = game_info[game_info['game_id'] == game_id]['home_team'].values[0]\n",
    "\n",
    "    away_gid_query = create_gid_query(game_id = game_id, date=date, lim=20, team='away')\n",
    "    away_stats = create_stats_df(query=away_gid_query, conn=conn, stats=stats_df, team='away')\n",
    "\n",
    "    home_gid_query = create_gid_query(game_id=game_id, date=date, lim=20, team='home')\n",
    "    home_stats = create_stats_df(query=home_gid_query, conn=conn, stats=stats_df, team='home')\n",
    "    \n",
    "    agg_stats = pd.concat([away_stats, home_stats], axis=1)\n",
    "    gid_info = game_info[game_info['game_id'] == game_id].reset_index(drop=True)\n",
    "    \n",
    "    stats = pd.concat([gid_info, agg_stats], axis=1)\n",
    "    team_full_20 = team_full_20.append(stats, ignore_index=True)\n",
    "\n",
    "team_full_20.to_csv('team_full_20.csv')"
   ]
  },
  {
   "cell_type": "code",
   "execution_count": null,
   "id": "b6704742",
   "metadata": {},
   "outputs": [],
   "source": [
    "team_full_30 = pd.DataFrame(columns=final_df_columns)\n",
    "\n",
    "for game_id in game_ids:\n",
    "\n",
    "    date = game_info[game_info['game_id'] == game_id]['date'].values[0]\n",
    "    away_team = game_info[game_info['game_id'] == game_id]['away_team'].values[0]\n",
    "    home_team = game_info[game_info['game_id'] == game_id]['home_team'].values[0]\n",
    "\n",
    "    away_gid_query = create_gid_query(game_id = game_id, date=date, lim=30, team='away')\n",
    "    away_stats = create_stats_df(query=away_gid_query, conn=conn, stats=stats_df, team='away')\n",
    "\n",
    "    home_gid_query = create_gid_query(game_id=game_id, date=date, lim=30, team='home')\n",
    "    home_stats = create_stats_df(query=home_gid_query, conn=conn, stats=stats_df, team='home')\n",
    "    \n",
    "    agg_stats = pd.concat([away_stats, home_stats], axis=1)\n",
    "    gid_info = game_info[game_info['game_id'] == game_id].reset_index(drop=True)\n",
    "    \n",
    "    stats = pd.concat([gid_info, agg_stats], axis=1)\n",
    "    team_full_30 = team_full_30.append(stats, ignore_index=True)\n",
    "\n",
    "team_full_30.to_csv('team_full_30.csv')"
   ]
  },
  {
   "cell_type": "code",
   "execution_count": null,
   "id": "c614db19",
   "metadata": {},
   "outputs": [],
   "source": []
  },
  {
   "cell_type": "code",
   "execution_count": null,
   "id": "fdd5fa9c",
   "metadata": {},
   "outputs": [],
   "source": []
  },
  {
   "cell_type": "code",
   "execution_count": null,
   "id": "bd421956",
   "metadata": {},
   "outputs": [],
   "source": []
  },
  {
   "cell_type": "code",
   "execution_count": null,
   "id": "485cdc94",
   "metadata": {},
   "outputs": [],
   "source": []
  },
  {
   "cell_type": "code",
   "execution_count": null,
   "id": "2f2d69c0",
   "metadata": {},
   "outputs": [],
   "source": [
    "conn.close()"
   ]
  }
 ],
 "metadata": {
  "kernelspec": {
   "display_name": "nba-env",
   "language": "python",
   "name": "nba-env"
  },
  "language_info": {
   "codemirror_mode": {
    "name": "ipython",
    "version": 3
   },
   "file_extension": ".py",
   "mimetype": "text/x-python",
   "name": "python",
   "nbconvert_exporter": "python",
   "pygments_lexer": "ipython3",
   "version": "3.11.3"
  }
 },
 "nbformat": 4,
 "nbformat_minor": 5
}
